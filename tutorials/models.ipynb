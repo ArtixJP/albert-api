{
 "cells": [
  {
   "cell_type": "markdown",
   "id": "57fc5450-a36f-48c0-a53c-9e3698c3267a",
   "metadata": {},
   "source": [
    "# Models"
   ]
  },
  {
   "cell_type": "code",
   "execution_count": 1,
   "id": "8e5bf034-950e-4a6b-a5bc-4abca3b54959",
   "metadata": {},
   "outputs": [],
   "source": [
    "# OpenAI client configuration\n",
    "import os\n",
    "from openai import OpenAI\n",
    "\n",
    "base_url = os.getenv(\"API_URL\") # e.g. \"http://localhost:8000/v1/\"\n",
    "api_key = os.getenv(\"API_KEY\") # e.g. \"your api key\"\n",
    "\n",
    "client = OpenAI(base_url=base_url, api_key=api_key)"
   ]
  },
  {
   "cell_type": "code",
   "execution_count": 2,
   "id": "1aa563f6-e734-4452-a023-7a423612e7eb",
   "metadata": {},
   "outputs": [
    {
     "name": "stdout",
     "output_type": "stream",
     "text": [
      "SyncPage[Model](data=[Model(id='meta-llama/Meta-Llama-3-8B-Instruct', created=1721086038, object='model', owned_by='vllm', root='meta-llama/Meta-Llama-3-8B-Instruct', parent=None, permission=[{'id': 'modelperm-6111ac55108f44c6aeaa7b422fba8fd1', 'object': 'model_permission', 'created': 1721086038, 'allow_create_engine': False, 'allow_sampling': True, 'allow_logprobs': True, 'allow_search_indices': False, 'allow_view': True, 'allow_fine_tuning': False, 'organization': '*', 'group': None, 'is_blocking': False}]), Model(id='gradientai/Llama-3-8B-Instruct-262k', created=1721086038, object='model', owned_by='vllm', root='gradientai/Llama-3-8B-Instruct-262k', parent=None, permission=[{'id': 'modelperm-9bbdeeb6986a45d99a6ac3d1ff0f9c0e', 'object': 'model_permission', 'created': 1721086038, 'allow_create_engine': False, 'allow_sampling': True, 'allow_logprobs': True, 'allow_search_indices': False, 'allow_view': True, 'allow_fine_tuning': False, 'organization': '*', 'group': None, 'is_blocking': False}]), Model(id='mistralai/Mixtral-8x7B-Instruct-v0.1', created=1721086038, object='model', owned_by='vllm', root='mistralai/Mixtral-8x7B-Instruct-v0.1', parent=None, permission=[{'id': 'modelperm-5e295f382dd74b76a1404c247b7f4984', 'object': 'model_permission', 'created': 1721086038, 'allow_create_engine': False, 'allow_sampling': True, 'allow_logprobs': True, 'allow_search_indices': False, 'allow_view': True, 'allow_fine_tuning': False, 'organization': '*', 'group': None, 'is_blocking': False}]), Model(id='AgentPublic/llama3-instruct-8b', created=1721086038, object='model', owned_by='vllm', type='text-generation'), Model(id='BAAI/bge-m3', created=1721086039, object='model', owned_by='tei', type='text-embeddings-inference'), Model(id='AgentPublic/llama3-instruct-guillaumetell', created=1721086038, object='model', owned_by='vllm', type='text-generation'), Model(id='intfloat/multilingual-e5-large', created=1721086039, object='model', owned_by='tei', type='text-embeddings-inference')], object='list')\n"
     ]
    }
   ],
   "source": [
    "# Get all models information\n",
    "models = client.models.list()\n",
    "\n",
    "print(models)"
   ]
  },
  {
   "cell_type": "code",
   "execution_count": 3,
   "id": "a5339237-dbf6-488d-ae26-98e52eccbd64",
   "metadata": {},
   "outputs": [
    {
     "name": "stdout",
     "output_type": "stream",
     "text": [
      "Model(id='AgentPublic/llama3-instruct-8b', created=1721086051, object='model', owned_by='vllm', type='text-generation')\n"
     ]
    }
   ],
   "source": [
    "# Get only one model information\n",
    "import urllib\n",
    "\n",
    "model = \"AgentPublic/llama3-instruct-8b\"\n",
    "\n",
    "# if your model ID contains \"/\" characters, you have to encode the string to be parse like an URL\n",
    "encoded_model = urllib.parse.quote(urllib.parse.quote(model, safe=\"\"), safe=\"\")\n",
    "\n",
    "model = client.models.retrieve(model=encoded_model)\n",
    "\n",
    "print(model)"
   ]
  },
  {
   "cell_type": "code",
   "execution_count": null,
   "id": "ea5a730d-6b7c-4b7e-ba28-350b5c139da2",
   "metadata": {},
   "outputs": [],
   "source": []
  }
 ],
 "metadata": {
  "kernelspec": {
   "display_name": "Python 3 (ipykernel)",
   "language": "python",
   "name": "python3"
  },
  "language_info": {
   "codemirror_mode": {
    "name": "ipython",
    "version": 3
   },
   "file_extension": ".py",
   "mimetype": "text/x-python",
   "name": "python",
   "nbconvert_exporter": "python",
   "pygments_lexer": "ipython3",
   "version": "3.12.3"
  }
 },
 "nbformat": 4,
 "nbformat_minor": 5
}
