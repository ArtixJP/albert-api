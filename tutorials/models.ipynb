{
 "cells": [
  {
   "cell_type": "markdown",
   "id": "57fc5450-a36f-48c0-a53c-9e3698c3267a",
   "metadata": {},
   "source": [
    "# Models"
   ]
  },
  {
   "cell_type": "code",
   "execution_count": 1,
   "id": "31c58abb-15ce-406d-ba44-351ed757f03c",
   "metadata": {},
   "outputs": [],
   "source": [
    "#!%pip install openai"
   ]
  },
  {
   "cell_type": "code",
   "execution_count": 2,
   "id": "8e5bf034-950e-4a6b-a5bc-4abca3b54959",
   "metadata": {},
   "outputs": [],
   "source": [
    "# OpenAI client configuration\n",
    "from openai import OpenAI\n",
    "\n",
    "base_url = \"http://localhost:8080/v1\"\n",
    "api_key = \"albert\" # enter any value if no api_key is setup in config.ini file\n",
    "\n",
    "client = OpenAI(base_url=base_url, api_key=api_key)"
   ]
  },
  {
   "cell_type": "code",
   "execution_count": 3,
   "id": "1aa563f6-e734-4452-a023-7a423612e7eb",
   "metadata": {},
   "outputs": [
    {
     "name": "stdout",
     "output_type": "stream",
     "text": [
      "SyncPage[Model](data=[Model(id='AgentPublic/llama3-instruct-8b', created=1719510064, object='model', owned_by='vllm', type='text-generation'), Model(id='BAAI/bge-m3', created=1719510064, object='model', owned_by='tei', type='text-embeddings-inference'), Model(id='meta-llama/Meta-Llama-3-8B-Instruct', created=1719510064, object='model', owned_by='vllm', root='meta-llama/Meta-Llama-3-8B-Instruct', parent=None, permission=[{'id': 'modelperm-8c5d6517f6d7425bbb8b6a5b3df0492e', 'object': 'model_permission', 'created': 1719510064, 'allow_create_engine': False, 'allow_sampling': True, 'allow_logprobs': True, 'allow_search_indices': False, 'allow_view': True, 'allow_fine_tuning': False, 'organization': '*', 'group': None, 'is_blocking': False}]), Model(id='gradientai/Llama-3-8B-Instruct-262k', created=1719510064, object='model', owned_by='vllm', root='gradientai/Llama-3-8B-Instruct-262k', parent=None, permission=[{'id': 'modelperm-50cfe19ee3c0415ba1c4023e77c7635b', 'object': 'model_permission', 'created': 1719510064, 'allow_create_engine': False, 'allow_sampling': True, 'allow_logprobs': True, 'allow_search_indices': False, 'allow_view': True, 'allow_fine_tuning': False, 'organization': '*', 'group': None, 'is_blocking': False}]), Model(id='mistralai/Mixtral-8x7B-Instruct-v0.1', created=1719510065, object='model', owned_by='vllm', root='mistralai/Mixtral-8x7B-Instruct-v0.1', parent=None, permission=[{'id': 'modelperm-610139c653414b018e6f63a7e0aacf5f', 'object': 'model_permission', 'created': 1719510065, 'allow_create_engine': False, 'allow_sampling': True, 'allow_logprobs': True, 'allow_search_indices': False, 'allow_view': True, 'allow_fine_tuning': False, 'organization': '*', 'group': None, 'is_blocking': False}])], object='list')\n"
     ]
    }
   ],
   "source": [
    "# Get all models information\n",
    "models = client.models.list()\n",
    "\n",
    "print(models)"
   ]
  },
  {
   "cell_type": "code",
   "execution_count": 4,
   "id": "a5339237-dbf6-488d-ae26-98e52eccbd64",
   "metadata": {},
   "outputs": [
    {
     "name": "stdout",
     "output_type": "stream",
     "text": [
      "Model(id='AgentPublic/llama3-instruct-8b', created=1719510065, object='model', owned_by='vllm', type='text-generation')\n"
     ]
    }
   ],
   "source": [
    "# Get only one model information\n",
    "import urllib\n",
    "\n",
    "model = \"AgentPublic/llama3-instruct-8b\"\n",
    "\n",
    "# if your model ID contains \"/\" characters, you have to encode the string to be parse like an URL\n",
    "encoded_model = urllib.parse.quote(urllib.parse.quote(model, safe=\"\"), safe=\"\")\n",
    "\n",
    "model = client.models.retrieve(model=encoded_model)\n",
    "\n",
    "print(model)"
   ]
  }
 ],
 "metadata": {
  "kernelspec": {
   "display_name": "Python 3 (ipykernel)",
   "language": "python",
   "name": "python3"
  },
  "language_info": {
   "codemirror_mode": {
    "name": "ipython",
    "version": 3
   },
   "file_extension": ".py",
   "mimetype": "text/x-python",
   "name": "python",
   "nbconvert_exporter": "python",
   "pygments_lexer": "ipython3",
   "version": "3.12.3"
  }
 },
 "nbformat": 4,
 "nbformat_minor": 5
}
