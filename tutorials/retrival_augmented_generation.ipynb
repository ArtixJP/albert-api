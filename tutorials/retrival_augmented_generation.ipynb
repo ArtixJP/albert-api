{
 "cells": [
  {
   "cell_type": "markdown",
   "id": "4ec838ca-2391-4aac-b71a-d6800b4d9b05",
   "metadata": {},
   "source": [
    "# Retrieval augmented generation (RAG)"
   ]
  },
  {
   "cell_type": "code",
   "execution_count": 1,
   "id": "7ef2ffcb-6192-48e7-a3d6-21b147bf98f3",
   "metadata": {},
   "outputs": [
    {
     "name": "stdout",
     "output_type": "stream",
     "text": [
      "-1 / unknown"
     ]
    },
    {
     "data": {
      "text/plain": [
       "'my_document.pdf'"
      ]
     },
     "execution_count": 1,
     "metadata": {},
     "output_type": "execute_result"
    }
   ],
   "source": [
    "# Download a file\n",
    "import wget\n",
    "\n",
    "file_path = \"my_document.pdf\"\n",
    "doc_url = \"https://www.legifrance.gouv.fr/download/file/rxcTl0H4YnnzLkMLiP4x15qORfLSKk_h8QsSb2xnJ8Y=/JOE_TEXTE\"\n",
    "\n",
    "wget.download(doc_url, out=file_path)"
   ]
  },
  {
   "cell_type": "code",
   "execution_count": 2,
   "id": "9e17262f-ab1a-439e-8342-10334e377d76",
   "metadata": {},
   "outputs": [],
   "source": [
    "# Request configuration\n",
    "import requests\n",
    "\n",
    "base_url = \"http://localhost:8080\"\n",
    "api_key = \"albert\" # enter any value if no api_key is setup in config.ini file\n",
    "\n",
    "session = requests.session()\n",
    "session.headers = {\"Authorization\": f\"Bearer {api_key}\"}  # skip headers if no api_key is setup in config.ini file"
   ]
  },
  {
   "cell_type": "code",
   "execution_count": 3,
   "id": "6852fc7a-0b09-451b-bbc2-939fa96a4d28",
   "metadata": {},
   "outputs": [
    {
     "data": {
      "text/plain": [
       "b'{\"object\":\"list\",\"data\":[{\"object\":\"upload\",\"id\":\"b7b3901d-6b36-47ed-9643-686d1574cabd\",\"name\":\"my_document.pdf\",\"status\":\"success\"}]}'"
      ]
     },
     "execution_count": 3,
     "metadata": {},
     "output_type": "execute_result"
    }
   ],
   "source": [
    "# Upload a file\n",
    "import os\n",
    "\n",
    "me = \"leo\"\n",
    "model = \"BAAI/bge-m3\"\n",
    "\n",
    "files = {'files': (os.path.basename(file_path), open(file_path, 'rb'), \"application/pdf\")}\n",
    "response = session.post(f\"{base_url}/files?user={me}&model={model}\", files=files)\n",
    "\n",
    "response.content"
   ]
  },
  {
   "cell_type": "code",
   "execution_count": 4,
   "id": "bd6d6140-5c91-4c3e-9350-b6c8550ab145",
   "metadata": {},
   "outputs": [
    {
     "data": {
      "text/plain": [
       "b'{\"object\":\"list\",\"data\":[{\"object\":\"file\",\"id\":\"7ca4b017-fcb9-4e10-b5c0-d810507d80a0\",\"name\":\"my_document.pdf\",\"vector_ids\":[\"ba9eb2f5-ea4f-4949-9d61-dc02e9b530c3\",\"fbbdcc6a-6e34-40bf-ad81-414ffb79764c\"]},{\"object\":\"file\",\"id\":\"b7b3901d-6b36-47ed-9643-686d1574cabd\",\"name\":\"my_document.pdf\",\"vector_ids\":[\"920c6b40-cd8b-4db6-bd6d-aaef831ad964\",\"bb36bcb1-f006-4f5f-af4d-d86ecdb013ad\"]},{\"object\":\"file\",\"id\":\"d127bf8a-f0b0-4259-bd3f-ea2954bdbff6\",\"name\":\"my_document.pdf\",\"vector_ids\":[\"050e81ba-da23-4716-8300-d6313796c4d4\",\"9c17bdae-1dae-4fd9-a23f-dbb26b1e4e0e\"]}],\"metadata\":{\"files\":3,\"vectors\":6}}'"
      ]
     },
     "execution_count": 4,
     "metadata": {},
     "output_type": "execute_result"
    }
   ],
   "source": [
    "# Retrieve the file ID for RAG\n",
    "response = session.get(f\"{base_url}/files/{me}\")\n",
    "\n",
    "response.content"
   ]
  },
  {
   "cell_type": "code",
   "execution_count": 5,
   "id": "f0957f09-948e-4e42-9c7c-7283d72d4d89",
   "metadata": {},
   "outputs": [],
   "source": [
    "file_id = response.json()[\"data\"][0][\"id\"]"
   ]
  },
  {
   "cell_type": "code",
   "execution_count": 6,
   "id": "74ae61fc-7042-4b80-831e-4d7ee2ee2430",
   "metadata": {},
   "outputs": [
    {
     "data": {
      "text/plain": [
       "b'{\"object\":\"list\",\"data\":[{\"id\":\"BaseRAG\",\"description\":\"Base RAG, basic retrival augmented generation.\\\\n\\\\nArgs:\\\\n    embeddings_model (str): OpenAI embeddings model\\\\n    collection_name (Optional[str], optional): Collection name. Defaults to \\\\\"user\\\\\" parameters.\\\\n    file_ids (Optional[List[str]], optional): List of file ids. Defaults to None.\\\\n    k (int, optional): Top K. Defaults to 4.\\\\n    prompt_template (Optional[str], optional): Prompt template. Defaults to DEFAULT_PROMPT_TEMPLATE.\",\"object\":\"tool\"}]}'"
      ]
     },
     "execution_count": 6,
     "metadata": {},
     "output_type": "execute_result"
    }
   ],
   "source": [
    "# Get tools\n",
    "response = session.get(f\"{base_url}/tools\")\n",
    "response.content"
   ]
  },
  {
   "cell_type": "code",
   "execution_count": 7,
   "id": "2e5cd813-5c19-4219-a404-6ed154991dfc",
   "metadata": {},
   "outputs": [
    {
     "name": "stdout",
     "output_type": "stream",
     "text": [
      "Base RAG, basic retrival augmented generation.\n",
      "\n",
      "Args:\n",
      "    embeddings_model (str): OpenAI embeddings model\n",
      "    collection_name (Optional[str], optional): Collection name. Defaults to \"user\" parameters.\n",
      "    file_ids (Optional[List[str]], optional): List of file ids. Defaults to None.\n",
      "    k (int, optional): Top K. Defaults to 4.\n",
      "    prompt_template (Optional[str], optional): Prompt template. Defaults to DEFAULT_PROMPT_TEMPLATE.\n"
     ]
    }
   ],
   "source": [
    "# Display tools parameters\n",
    "print(response.json()[\"data\"][0][\"description\"])"
   ]
  },
  {
   "cell_type": "code",
   "execution_count": 8,
   "id": "d8f7bfe0-161f-442a-ae00-b2e4a64a7681",
   "metadata": {},
   "outputs": [],
   "source": [
    "# OpenAI client configuration\n",
    "from openai import OpenAI\n",
    "\n",
    "client = OpenAI(base_url=f\"{base_url}/v1\", api_key=api_key)"
   ]
  },
  {
   "cell_type": "code",
   "execution_count": 9,
   "id": "f374c1ad-b5ec-4870-a11a-953c7d219f94",
   "metadata": {},
   "outputs": [
    {
     "name": "stdout",
     "output_type": "stream",
     "text": [
      "Selon les documents, Ulrich Tan est le chef du pôle Datamin du département \"Etalab\".\n"
     ]
    }
   ],
   "source": [
    "# Chat completions\n",
    "data = {\n",
    "    \"model\": \"AgentPublic/llama3-instruct-8b\",\n",
    "    \"messages\": [{\"role\": \"user\", \"content\": \"Qui est Ulrich Tan ?\"}],\n",
    "    \"stream\": False,\n",
    "    \"n\": 1,\n",
    "    \"user\": \"leo\",\n",
    "    \"tools\": [\n",
    "        {\n",
    "            \"function\": {\n",
    "                \"name\": \"BaseRAG\",\n",
    "                \"parameters\": {\"embeddings_model\": \"BAAI/bge-m3\", \"k\": 2}\n",
    "            },\n",
    "            \"type\": \"function\"\n",
    "        }\n",
    "    ]\n",
    "}\n",
    "\n",
    "response = client.chat.completions.create(**data)\n",
    "print(response.choices[0].message.content)"
   ]
  },
  {
   "cell_type": "code",
   "execution_count": 10,
   "id": "6dd19051-bb51-4b0c-b300-f86b39f17ee0",
   "metadata": {},
   "outputs": [
    {
     "name": "stdout",
     "output_type": "stream",
     "text": [
      "Réponds à la question suivante en te basant sur les documents ci-dessous : Qui est Ulrich Tan ?\n",
      "\n",
      "Documents :\n",
      "\n",
      "– Mme Marine Boudeau, agente contractuelle, préfiguratrice du pôle « Brigade d’intervention numérique, du département « ACE »;– M. Mohsen Souissi, agent contractuel, préfigurateur du pôle « Référentiels, capitalisation et observatoires  du département « ACE »;– M. Louis di Benedetto, inspecteur en chef de la santé publique vétérinaire, chef du pôle « Pilotage de la qualité et des partenariats  du département « ISO »;– M. Philippe Levillain, agent contractuel, chef du pôle « Réseau interministériel de l’Etat / SOI » du département « ISO »;– M. Gilles Corbi, agent contractuel, chef du pôle Production du département « ISO »;– M. Yann Brûlé, grade, chef du pôle « SI RIE  du département « ISO »;– M. Ulrich Tan, chef du pôle Datamin du département « Etalab »;– Mme Marie-Christie Ritz, cheffe du pôle « RH et attractivité »;– Mme Fadila Leturcq, cheffe du pôle « Campus du numérique ».Art. 4.– Délégation est donnée à l’effet de signer au nom du ministre de la transformation et de la fonction publiques ainsi qu’au nom de la Première ministre, les services faits relevant des leurs attributions, d’un montant strictement inférieur à 208 000 € HT, aux responsables de portefeuille, au sein du département « Incubateur de services numériques » :– Mme Elsa Le Duigou, agent contractuel;– M. Valentin Brel, agent contractuel;– Mme Margot Sanchez, agent contractuel;– M. Paul Burgun, agent contractuel;– Mme Emma Ghariani, agent contractuel.Art. 5.– Délégation est donnée à Mme Géraldine Taurand, attachée d’administration hors classe, cheffe de la mission « Budget et achats, pour signer tous actes de gestion et procéder aux validations électronique dans l’outil informatique CHORUS formulaires des dépenses et recettes de la direction interministérielle du numérique résultant d’actes validés selon les modalités fixées aux articles 1er à 8 de la présente décision.Art. 6.– Délégation est donnée à l’effet de valider, de façon électronique dans l’outil informatique « Chorus Formulaires », dans les limites de leurs attributions, les demandes d’achat et les attestations du service fait aux agents ci-après désignés :– Mme Marielle Variette, attachée d’administration;– M. Aël Lebreton, attaché principal d’administration;– Mme Sandrine Argillet, agent contractuel;– Mme Solange Nguefang, secrétaire administrative de classe exceptionnelle;– Mme Yamina Mebarkaoui, greffière des services judiciaires.Art. 7.– La décision du 17 janvier 2023 portant délégation de signature (direction interministérielle du numérique) est abrogée.Art. 8.– La présente décision sera publiée au Journal officiel de la République française.Fait le 18 juin 2023.\n",
      "\n",
      "– Mme Marine Boudeau, agente contractuelle, préfiguratrice du pôle « Brigade d’intervention numérique, du département « ACE »;– M. Mohsen Souissi, agent contractuel, préfigurateur du pôle « Référentiels, capitalisation et observatoires  du département « ACE »;– M. Louis di Benedetto, inspecteur en chef de la santé publique vétérinaire, chef du pôle « Pilotage de la qualité et des partenariats  du département « ISO »;– M. Philippe Levillain, agent contractuel, chef du pôle « Réseau interministériel de l’Etat / SOI » du département « ISO »;– M. Gilles Corbi, agent contractuel, chef du pôle Production du département « ISO »;– M. Yann Brûlé, grade, chef du pôle « SI RIE  du département « ISO »;– M. Ulrich Tan, chef du pôle Datamin du département « Etalab »;– Mme Marie-Christie Ritz, cheffe du pôle « RH et attractivité »;– Mme Fadila Leturcq, cheffe du pôle « Campus du numérique ».Art. 4.– Délégation est donnée à l’effet de signer au nom du ministre de la transformation et de la fonction publiques ainsi qu’au nom de la Première ministre, les services faits relevant des leurs attributions, d’un montant strictement inférieur à 208 000 € HT, aux responsables de portefeuille, au sein du département « Incubateur de services numériques » :– Mme Elsa Le Duigou, agent contractuel;– M. Valentin Brel, agent contractuel;– Mme Margot Sanchez, agent contractuel;– M. Paul Burgun, agent contractuel;– Mme Emma Ghariani, agent contractuel.Art. 5.– Délégation est donnée à Mme Géraldine Taurand, attachée d’administration hors classe, cheffe de la mission « Budget et achats, pour signer tous actes de gestion et procéder aux validations électronique dans l’outil informatique CHORUS formulaires des dépenses et recettes de la direction interministérielle du numérique résultant d’actes validés selon les modalités fixées aux articles 1er à 8 de la présente décision.Art. 6.– Délégation est donnée à l’effet de valider, de façon électronique dans l’outil informatique « Chorus Formulaires », dans les limites de leurs attributions, les demandes d’achat et les attestations du service fait aux agents ci-après désignés :– Mme Marielle Variette, attachée d’administration;– M. Aël Lebreton, attaché principal d’administration;– Mme Sandrine Argillet, agent contractuel;– Mme Solange Nguefang, secrétaire administrative de classe exceptionnelle;– Mme Yamina Mebarkaoui, greffière des services judiciaires.Art. 7.– La décision du 17 janvier 2023 portant délégation de signature (direction interministérielle du numérique) est abrogée.Art. 8.– La présente décision sera publiée au Journal officiel de la République française.Fait le 18 juin 2023.\n"
     ]
    }
   ],
   "source": [
    "# View chat history\n",
    "chat_id = response.id\n",
    "\n",
    "response = session.get(url=f\"{base_url}/chat_history/{me}/{chat_id}\")\n",
    "print(response.json()[\"messages\"][0][\"content\"])"
   ]
  }
 ],
 "metadata": {
  "kernelspec": {
   "display_name": "Python 3 (ipykernel)",
   "language": "python",
   "name": "python3"
  },
  "language_info": {
   "codemirror_mode": {
    "name": "ipython",
    "version": 3
   },
   "file_extension": ".py",
   "mimetype": "text/x-python",
   "name": "python",
   "nbconvert_exporter": "python",
   "pygments_lexer": "ipython3",
   "version": "3.12.3"
  }
 },
 "nbformat": 4,
 "nbformat_minor": 5
}
