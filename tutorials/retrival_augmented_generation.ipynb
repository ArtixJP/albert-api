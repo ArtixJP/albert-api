{
 "cells": [
  {
   "cell_type": "markdown",
   "id": "f6f333a0-7450-4136-b8cc-416e07426279",
   "metadata": {},
   "source": [
    "# Intérroger des documents (RAG)"
   ]
  },
  {
   "cell_type": "markdown",
   "id": "daadba81-54dd-48ba-b6f0-fc8307e822c3",
   "metadata": {},
   "source": [
    "Commencez par télécharger le document qui va vous servir de base de connaissance."
   ]
  },
  {
   "cell_type": "code",
   "execution_count": 1,
   "id": "e80daa99-3416-4b81-a8aa-4fb7427bbe6c",
   "metadata": {},
   "outputs": [
    {
     "data": {
      "text/plain": [
       "'my_document.pdf'"
      ]
     },
     "execution_count": 1,
     "metadata": {},
     "output_type": "execute_result"
    }
   ],
   "source": [
    "# Download a file\n",
    "import wget\n",
    "import os\n",
    "\n",
    "file_path = \"my_document.pdf\"\n",
    "if os.path.exists(file_path):\n",
    "    os.remove(file_path)\n",
    "doc_url = \"https://www.legifrance.gouv.fr/download/file/rxcTl0H4YnnzLkMLiP4x15qORfLSKk_h8QsSb2xnJ8Y=/JOE_TEXTE\"\n",
    "\n",
    "wget.download(doc_url, out=file_path)"
   ]
  },
  {
   "cell_type": "markdown",
   "id": "80cf5b47-3ae4-4d86-9012-f2f8379d8f0b",
   "metadata": {},
   "source": [
    "Puis instancier la connexion à l'API Albert."
   ]
  },
  {
   "cell_type": "code",
   "execution_count": 19,
   "id": "db90166d",
   "metadata": {},
   "outputs": [],
   "source": [
    "# OpenAI client configuration\n",
    "import requests\n",
    "from openai import OpenAI\n",
    "\n",
    "base_url = \"https://albert.api.etalab.gouv.fr/v1\"\n",
    "api_key = os.getenv(\"API_KEY\")\n",
    "\n",
    "client = OpenAI(base_url=base_url, api_key=api_key)\n",
    "\n",
    "session = requests.session()\n",
    "session.headers = {\"Authorization\": f\"Bearer {api_key}\"}  # skip headers if no api_key is setup in config.ini file"
   ]
  },
  {
   "cell_type": "markdown",
   "id": "a9615d41-5ce2-471b-bd6c-90cfb2b78d21",
   "metadata": {},
   "source": [
    "Enfin pour vous importer le document dans une collection de notre base vectorielle à l'aide du endpoint POST `/v1/files`.\n",
    "\n",
    "Vous devez spécifier le modèle d'embeddings qui sera utilisé pour vectoriser votre document. Vous pouvez trouver la liste des modèles avec le endpoint `/v1/models`. Les modèles d'embeddings sont indiqués avec le type _feature-extraction_.\n",
    "\n",
    "Le endpoint POST `/v1/files` doit retourner un status _success_. "
   ]
  },
  {
   "cell_type": "code",
   "execution_count": 25,
   "id": "5ac03e4c",
   "metadata": {},
   "outputs": [],
   "source": [
    "# Remove previous files\n",
    "\n",
    "collection = \"leo\"\n",
    "#response = session.delete(f\"{base_url}/files/{collection}\")\n",
    "#response.status_code"
   ]
  },
  {
   "cell_type": "code",
   "execution_count": 4,
   "id": "6852fc7a-0b09-451b-bbc2-939fa96a4d28",
   "metadata": {},
   "outputs": [
    {
     "data": {
      "text/plain": [
       "{'object': 'list',\n",
       " 'data': [{'object': 'upload',\n",
       "   'id': '65773377-86ce-4617-a678-b9a03e8d6575',\n",
       "   'filename': 'my_document.pdf',\n",
       "   'status': 'success'}]}"
      ]
     },
     "execution_count": 4,
     "metadata": {},
     "output_type": "execute_result"
    }
   ],
   "source": [
    "# Upload a file\n",
    "model = \"intfloat/multilingual-e5-large\"\n",
    "params = {\"collection\": collection, \"model\": model} \n",
    "\n",
    "files = {'files': (os.path.basename(file_path), open(file_path, 'rb'), \"application/pdf\")}\n",
    "response = session.post(f\"{base_url}/files\", params=params , files=files)\n",
    "\n",
    "response.json()"
   ]
  },
  {
   "cell_type": "markdown",
   "id": "1b054544",
   "metadata": {},
   "source": []
  },
  {
   "cell_type": "markdown",
   "id": "f78ec73c-3e83-4266-a8de-c6a198f317b4",
   "metadata": {},
   "source": [
    "Vous pouvez observer les fichiers que vous avez importer dans une collection à l'aide du endpoint GET `/v1/files.`"
   ]
  },
  {
   "cell_type": "code",
   "execution_count": 5,
   "id": "bd6d6140-5c91-4c3e-9350-b6c8550ab145",
   "metadata": {},
   "outputs": [
    {
     "data": {
      "text/plain": [
       "{'object': 'list',\n",
       " 'data': [{'object': 'file',\n",
       "   'id': '65773377-86ce-4617-a678-b9a03e8d6575',\n",
       "   'bytes': 133606,\n",
       "   'filename': 'my_document.pdf',\n",
       "   'chunk_ids': ['0b0a35ff-8dad-45c1-bab9-bf0c34bd78fd',\n",
       "    '25737bba-3c18-42f9-ac19-5f8e471d5fd5',\n",
       "    '2c0c317c-524d-42dd-8ca4-05bda9428224',\n",
       "    '34b7c8d8-18d8-45b2-b9b6-1a65e13ab6d6',\n",
       "    '36298208-0864-492c-9ee0-b87d15b96b34',\n",
       "    '4b3992d7-d014-411a-bb24-7af5c0edeff5',\n",
       "    '5a4f51b5-6726-4a36-9cf4-9df8f861d89c',\n",
       "    '707356ed-67de-4427-9be9-52f0b57c6c78',\n",
       "    '795074c3-09da-4882-93e4-8ce157370530',\n",
       "    '85e69ae6-6c7c-4fc9-8ffe-39f61af49c7f',\n",
       "    '9432adec-a7a8-4c44-92df-331b1b3f8c11',\n",
       "    '9fe970a4-9062-4059-9fde-4628165caf52',\n",
       "    'a380c886-998e-4f20-afa0-59cbc1fd1012',\n",
       "    'cd145dc3-90fb-4834-9da5-b2536d1611b7',\n",
       "    'd07c2ad0-b57d-4a60-b232-37142eaf2eed',\n",
       "    'd835f64d-8f78-4978-bc03-104432865792'],\n",
       "   'created_at': 1722794075}]}"
      ]
     },
     "execution_count": 5,
     "metadata": {},
     "output_type": "execute_result"
    }
   ],
   "source": [
    "# Retrieve the file ID for RAG\n",
    "response = session.get(f\"{base_url}/files/{collection}\")\n",
    "response.json()"
   ]
  },
  {
   "cell_type": "code",
   "execution_count": 6,
   "id": "f0957f09-948e-4e42-9c7c-7283d72d4d89",
   "metadata": {},
   "outputs": [],
   "source": [
    "file_id = response.json()[\"data\"][0][\"id\"]"
   ]
  },
  {
   "cell_type": "code",
   "execution_count": 7,
   "id": "2e5cd813-5c19-4219-a404-6ed154991dfc",
   "metadata": {},
   "outputs": [
    {
     "name": "stdout",
     "output_type": "stream",
     "text": [
      "Base RAG, basic retrival augmented generation.\n",
      "\n",
      "    Args:\n",
      "        embeddings_model (str): OpenAI embeddings model\n",
      "        collection (Optional[List[str]], optional): List of collections to search in. Defaults to None (all collections).\n",
      "        file_ids (Optional[List[str]], optional): List of file IDs in the selected collections (after upload files). Defaults to None (all files are selected).\n",
      "        k (int, optional): Top K per collection (max: 6). Defaults to 4.\n",
      "        prompt_template (Optional[str], optional): Prompt template. Defaults to DEFAULT_PROMPT_TEMPLATE.\n",
      "\n",
      "    DEFAULT_PROMPT_TEMPLATE:\n",
      "        \"Réponds à la question suivante en te basant sur les documents ci-dessous : {prompt}\n",
      "\n",
      "Documents :\n",
      "\n",
      "{files}\"\n"
     ]
    }
   ],
   "source": [
    "# Display tools parameters\n",
    "response = session.get(f\"{base_url}/tools\")\n",
    "for tool in response.json()[\"data\"]:\n",
    "    if tool[\"id\"] == \"BaseRAG\":\n",
    "        print(tool[\"description\"].strip())"
   ]
  },
  {
   "cell_type": "code",
   "execution_count": 26,
   "id": "f374c1ad-b5ec-4870-a11a-953c7d219f94",
   "metadata": {},
   "outputs": [
    {
     "name": "stdout",
     "output_type": "stream",
     "text": [
      "Selon les documents, il n'y a pas d'Ulrich Tan mentionné. Les noms et les fonctionnaires énumérés ne comprennent pas Ulrich Tan.\n"
     ]
    }
   ],
   "source": [
    "# Chat completions\n",
    "data = {\n",
    "    \"model\": \"AgentPublic/llama3-instruct-8b\",\n",
    "    \"messages\": [{\"role\": \"user\", \"content\": \"Qui est Ulrich Tan ?\"}],\n",
    "    \"stream\": False,\n",
    "    \"n\": 1,\n",
    "    \"tools\": [\n",
    "        {\n",
    "            \"function\": {\n",
    "                \"name\": \"BaseRAG\",\n",
    "                \"parameters\": {\n",
    "                    \"embeddings_model\": model,\n",
    "                    \"collections\": [collection],\n",
    "                    \"k\": 2,\n",
    "                },\n",
    "            },\n",
    "            \"type\": \"function\",\n",
    "        }\n",
    "    ],\n",
    "}\n",
    "\n",
    "response = client.chat.completions.create(**data)\n",
    "print(response.choices[0].message.content)"
   ]
  },
  {
   "cell_type": "code",
   "execution_count": 22,
   "id": "fb9c9b07",
   "metadata": {},
   "outputs": [
    {
     "data": {
      "text/plain": [
       "[{'BaseRAG': {'prompt': 'Réponds à la question suivante en te basant sur les documents ci-dessous : Qui est Ulrich Tan ?\\n\\nDocuments :\\n\\n–  Mme Elsa Le Duigou, agent contractuel ; –  M. Valentin Brel, agent contractuel ; –  Mme Margot Sanchez, agent contractuel ; –  M. Paul Burgun, agent contractuel ; –  Mme Emma Ghariani, agent contractuel. Art.  5.  –  Délégation est donnée à Mme Géraldine Taurand, attachée d’administration hors classe, cheffe de la mission « Budget et achats », pour signer tous actes de gestion et procéder aux validations électronique dans l’outil',\n",
       "   'metadata': {'chunks': [{'file_id': '0fb8a999-6e4e-40f4-bcd8-807541687e94',\n",
       "      '_id': '7b19aa26-7f0e-4a19-9441-cffa848c0e8c',\n",
       "      '_collection_name': 'k7se0ojelcrinzkk-leo'}]}}}]"
      ]
     },
     "execution_count": 22,
     "metadata": {},
     "output_type": "execute_result"
    }
   ],
   "source": [
    "print(response.metadata[0][\"BaseRAG\"][\"prompt\"])"
   ]
  }
 ],
 "metadata": {
  "kernelspec": {
   "display_name": "Python 3 (ipykernel)",
   "language": "python",
   "name": "python3"
  },
  "language_info": {
   "codemirror_mode": {
    "name": "ipython",
    "version": 3
   },
   "file_extension": ".py",
   "mimetype": "text/x-python",
   "name": "python",
   "nbconvert_exporter": "python",
   "pygments_lexer": "ipython3",
   "version": "3.12.3"
  }
 },
 "nbformat": 4,
 "nbformat_minor": 5
}
