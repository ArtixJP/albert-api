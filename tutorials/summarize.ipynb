{
 "cells": [
  {
   "cell_type": "markdown",
   "id": "4ec838ca-2391-4aac-b71a-d6800b4d9b05",
   "metadata": {},
   "source": [
    "# Résumer un document"
   ]
  },
  {
   "cell_type": "markdown",
   "id": "19d15dde-f884-4d38-8f85-f18e5c6b7fb2",
   "metadata": {},
   "source": [
    "Commencez par télécharger le document que vous souhaitez résumer."
   ]
  },
  {
   "cell_type": "code",
   "execution_count": 4,
   "id": "e80daa99-3416-4b81-a8aa-4fb7427bbe6c",
   "metadata": {},
   "outputs": [],
   "source": [
    "# Download a file\n",
    "import wget\n",
    "\n",
    "file_path = \"my_document.pdf\"\n",
    "doc_url = \"https://beta.gouv.fr/content/docs/mooc/23-lancez-vous-avec-demarches-simplifiees.pdf\"\n",
    "\n",
    "wget.download(doc_url, out=file_path)"
   ]
  },
  {
   "cell_type": "markdown",
   "id": "c9e8bcec-a669-4719-b657-7bbb87c833c6",
   "metadata": {},
   "source": [
    "Puis instancier la connexion à l'API Albert."
   ]
  },
  {
   "cell_type": "code",
   "execution_count": 5,
   "id": "9e17262f-ab1a-439e-8342-10334e377d76",
   "metadata": {},
   "outputs": [],
   "source": [
    "# Request configuration\n",
    "import requests\n",
    "import os\n",
    "\n",
    "base_url = os.getenv(\"API_URL\") # e.g. \"http://localhost:8000/v1/\"\n",
    "api_key = os.getenv(\"API_KEY\") # e.g. \"your api key\"\n",
    "\n",
    "session = requests.session()\n",
    "session.headers = {\"Authorization\": f\"Bearer {api_key}\"}  # skip headers if no api_key is setup in config.ini file"
   ]
  },
  {
   "cell_type": "markdown",
   "id": "11e7ec99-edf5-4669-9e6f-5d98d9008b09",
   "metadata": {},
   "source": [
    "Enfin pour vous importer le document dans une collection de notre base vectorielle à l'aide du endpoint POST `/v1/files`.\n",
    "\n",
    "Vous devez spécifier le modèle d'embeddings qui sera utilisé pour vectoriser votre document. Vous pouvez trouver la liste des modèles avec le endpoint `/v1/models`. Les modèles d'embeddings sont indiqués avec le type _feature-extraction_.\n",
    "\n",
    "Le endpoint POST `/v1/files` doit retourner un status _success_. "
   ]
  },
  {
   "cell_type": "code",
   "execution_count": 8,
   "id": "6852fc7a-0b09-451b-bbc2-939fa96a4d28",
   "metadata": {},
   "outputs": [
    {
     "data": {
      "text/plain": [
       "{'object': 'list',\n",
       " 'data': [{'object': 'upload',\n",
       "   'id': 'cefd07f0-de07-439a-9b20-d3aae6985a3b',\n",
       "   'filename': 'my_document.pdf',\n",
       "   'status': 'success'}]}"
      ]
     },
     "execution_count": 8,
     "metadata": {},
     "output_type": "execute_result"
    }
   ],
   "source": [
    "# Upload a file\n",
    "collection = \"leo\"\n",
    "model = \"BAAI/bge-m3\"\n",
    "params = {\"collection\": collection, \"model\": model} \n",
    "\n",
    "files = {'files': (os.path.basename(file_path), open(file_path, 'rb'), \"application/pdf\")}\n",
    "response = session.post(f\"{base_url}/files\", params=params , files=files)\n",
    "\n",
    "response.json()"
   ]
  },
  {
   "cell_type": "markdown",
   "id": "b5d8bb34-c325-483a-a548-f7c15684d2a5",
   "metadata": {},
   "source": [
    "Vous pouvez observer les fichiers que vous avez importer dans une collection à l'aide du endpoint GET `/v1/files`."
   ]
  },
  {
   "cell_type": "code",
   "execution_count": null,
   "id": "bd6d6140-5c91-4c3e-9350-b6c8550ab145",
   "metadata": {},
   "outputs": [],
   "source": [
    "# Retrieve the file ID for RAG\n",
    "response = session.get(f\"{base_url}/files/{collection}\")\n",
    "\n",
    "response.json()"
   ]
  },
  {
   "cell_type": "markdown",
   "id": "d0fed942-cd46-4623-9b0f-9946c2fb157f",
   "metadata": {},
   "source": [
    "Chaque fichier importé est associé un _file_id_, stocker le, il sera nécessaire pour la suite."
   ]
  },
  {
   "cell_type": "code",
   "execution_count": null,
   "id": "f0957f09-948e-4e42-9c7c-7283d72d4d89",
   "metadata": {},
   "outputs": [],
   "source": [
    "file_id = response.json()[\"data\"][0][\"id\"]"
   ]
  },
  {
   "cell_type": "markdown",
   "id": "98b86848-f250-457c-8a04-39b034147c08",
   "metadata": {},
   "source": [
    "Pour résumer un document vous devez utiliser le _tool_ qui permet de fournir au modèle un ou plusieurs document préalablement importés : _UseFile_. Vous trouverez la liste des _tools_ ainsi que leur paramètres avec le endpoint GET `/v1/tools`."
   ]
  },
  {
   "cell_type": "code",
   "execution_count": 7,
   "id": "2e5cd813-5c19-4219-a404-6ed154991dfc",
   "metadata": {},
   "outputs": [
    {
     "name": "stdout",
     "output_type": "stream",
     "text": [
      "Fill your prompt with file contents. Your prompt must contain \"{files}\" placeholder.\n",
      "\n",
      "    Args:\n",
      "        collection (str): Collection name.\n",
      "        file_ids (List[str]): List of file ids in the selected collection.\n"
     ]
    }
   ],
   "source": [
    "# Display tools parameters\n",
    "response = session.get(f\"{base_url}/tools\")\n",
    "for tool in response.json()[\"data\"]:\n",
    "    if tool[\"id\"] == \"UseFiles\":\n",
    "        print(tool[\"description\"])"
   ]
  },
  {
   "cell_type": "code",
   "execution_count": 31,
   "id": "d8f7bfe0-161f-442a-ae00-b2e4a64a7681",
   "metadata": {},
   "outputs": [],
   "source": [
    "# OpenAI client configuration\n",
    "from openai import OpenAI\n",
    "\n",
    "client = OpenAI(base_url=base_url, api_key=api_key)"
   ]
  },
  {
   "cell_type": "markdown",
   "id": "58b308e4-4c35-41f6-9399-04254623c4c8",
   "metadata": {},
   "source": [
    "Nous pouvons maintenant interroger le modèle avec le endpoint POST `/v1/chat/completions`"
   ]
  },
  {
   "cell_type": "code",
   "execution_count": null,
   "id": "f374c1ad-b5ec-4870-a11a-953c7d219f94",
   "metadata": {},
   "outputs": [],
   "source": [
    "# Chat completions\n",
    "message = \"Résume le document suivant : {files}\"\n",
    "user = \"leo\" # for chat history\n",
    "data = {\n",
    "    \"model\": \"AgentPublic/llama3-instruct-8b\",\n",
    "    \"user\": user,\n",
    "    \"messages\": [{\"role\": \"user\", \"content\": message}],\n",
    "    \"stream\": False,\n",
    "    \"n\": 1,\n",
    "    \"tools\": [\n",
    "        {\n",
    "            \"function\": {\n",
    "                \"name\": \"UseFiles\",\n",
    "                \"parameters\": {\n",
    "                    \"collection\": collection,\n",
    "                    \"file_ids\": [file_id]\n",
    "                },\n",
    "            },\n",
    "            \"type\": \"function\",\n",
    "        }\n",
    "    ],\n",
    "}\n",
    "\n",
    "response = session.post(f\"{base_url}/chat/completions\", json=data)\n",
    "print(response.json()[\"choices\"][0][\"content\"])"
   ]
  },
  {
   "cell_type": "code",
   "execution_count": 48,
   "id": "ba841f60-7905-4569-9e00-659ead774d87",
   "metadata": {},
   "outputs": [
    {
     "name": "stdout",
     "output_type": "stream",
     "text": [
      "Le document présente le service \"Demarches-simplifiées\" créé par la DINSIC (Direction interministérielle du numérique et des systèmes d'information et de communication) en 2015. Ce service en ligne permet aux acteurs publics de créer des formulaires en ligne pour les démarches administratives, sans nécessiter d'installation technique. \n",
      "\n",
      "L'objectif est de dématérialiser 100% des démarches administratives d'ici 2022. Pour y parvenir, Demarches-simplifiées permet aux acteurs publics de créer des formulaires en ligne de manière simple, en utilisant les ressources et données de la DINSIC. Les agents publics peuvent ainsi gérer les démarches en ligne sans avoir à posséder des compétences techniques en informatique.\n",
      "\n",
      "Le service a déjà été adopté par plus de 500 organismes publics et plus de 5000 agents publics sont inscrits comme instructeurs. L'objectif est de dépasser les 10 000 démarches en ligne d'ici la fin de l'année 2018.\n",
      "\n",
      "Le service est considéré comme une \"Startup d'État\" créée pour accompagner la dématérialisation des démarches administratives. Il a été développé avec un mode opératoire innovant et des interfaces simples, sans nécessiter de connaissances en informatique.\n"
     ]
    }
   ],
   "source": [
    "print(response.json()[\"choices\"][0][\"message\"][\"content\"])"
   ]
  },
  {
   "cell_type": "markdown",
   "id": "2e44020f-5263-4cbb-96a6-da5acccdf3a8",
   "metadata": {},
   "source": [
    "A l'aide de l'historique de chat disponible en récupérant l'ID retourné puisque j'ai initié une nouvelle conversation, je peux continuer a affiner sa réponse."
   ]
  },
  {
   "cell_type": "code",
   "execution_count": 49,
   "id": "c8d25006-27a8-47fd-82ff-314980068c6f",
   "metadata": {},
   "outputs": [],
   "source": [
    "chat_id = response.json()[\"id\"]"
   ]
  },
  {
   "cell_type": "code",
   "execution_count": 51,
   "id": "ee23a583-ed65-4161-b438-8e6a36081820",
   "metadata": {},
   "outputs": [
    {
     "name": "stdout",
     "output_type": "stream",
     "text": [
      "Oui, bien sûr !\n",
      "\n",
      "Voici les chiffres clés extrait du résumé :\n",
      "\n",
      "* 500 : Nombre d'organismes publics qui ont adopté le service\n",
      "* 5000 : Nombre d'agents publics inscrits comme instructeurs\n",
      "* 10 000 : Objectif de démarches en ligne à atteindre d'ici la fin de l'année 2018\n",
      "* 2022 : Objectif de dématérialiser 100% des démarches administratives\n"
     ]
    }
   ],
   "source": [
    "message = \"Peux-tu me sortir les chiffres clefs du résumé que tu as fait ?\"\n",
    "\n",
    "data = {\n",
    "    \"model\": \"AgentPublic/llama3-instruct-8b\",\n",
    "    \"user\": user,\n",
    "    \"id\": chat_id,\n",
    "    \"messages\": [{\"role\": \"user\", \"content\": message}],\n",
    "    \"stream\": False,\n",
    "    \"n\": 1,\n",
    "}\n",
    "\n",
    "response = session.post(f\"{base_url}/chat/completions\", json=data)\n",
    "print(response.json()[\"choices\"][0][\"message\"][\"content\"])"
   ]
  }
 ],
 "metadata": {
  "kernelspec": {
   "display_name": "Python 3 (ipykernel)",
   "language": "python",
   "name": "python3"
  },
  "language_info": {
   "codemirror_mode": {
    "name": "ipython",
    "version": 3
   },
   "file_extension": ".py",
   "mimetype": "text/x-python",
   "name": "python",
   "nbconvert_exporter": "python",
   "pygments_lexer": "ipython3",
   "version": "3.12.3"
  }
 },
 "nbformat": 4,
 "nbformat_minor": 5
}
