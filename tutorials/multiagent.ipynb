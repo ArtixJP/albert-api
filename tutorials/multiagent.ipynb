{
 "cells": [
  {
   "cell_type": "markdown",
   "id": "4ec838ca-2391-4aac-b71a-d6800b4d9b05",
   "metadata": {},
   "source": [
    "# Mulitagent RAG"
   ]
  },
  {
   "cell_type": "code",
   "execution_count": null,
   "id": "7ef2ffcb-6192-48e7-a3d6-21b147bf98f3",
   "metadata": {},
   "outputs": [],
   "source": [
    "# Download a file\n",
    "import wget\n",
    "\n",
    "file_path = \"my_document.pdf\"\n",
    "doc_url = \"https://www.legifrance.gouv.fr/download/file/rxcTl0H4YnnzLkMLiP4x15qORfLSKk_h8QsSb2xnJ8Y=/JOE_TEXTE\"\n",
    "\n",
    "wget.download(doc_url, out=file_path)"
   ]
  },
  {
   "cell_type": "code",
   "execution_count": 28,
   "id": "9e17262f-ab1a-439e-8342-10334e377d76",
   "metadata": {},
   "outputs": [],
   "source": [
    "# Request configuration\n",
    "import requests\n",
    "\n",
    "base_url = \"http://localhost:8080/v1\"\n",
    "api_key = \"albert\" # enter any value if no api_key is setup in config.ini file\n",
    "\n",
    "session = requests.session()\n",
    "session.headers = {\"Authorization\": f\"Bearer {api_key}\"}  # skip headers if no api_key is setup in config.ini file"
   ]
  },
  {
   "cell_type": "code",
   "execution_count": 29,
   "id": "6852fc7a-0b09-451b-bbc2-939fa96a4d28",
   "metadata": {},
   "outputs": [
    {
     "data": {
      "text/plain": [
       "{'object': 'list',\n",
       " 'data': [{'object': 'upload',\n",
       "   'id': 'e34fd32a-cf97-4ea0-87c8-f08f33bcc14c',\n",
       "   'filename': 'my_document.pdf',\n",
       "   'status': 'success'}]}"
      ]
     },
     "execution_count": 29,
     "metadata": {},
     "output_type": "execute_result"
    }
   ],
   "source": [
    "# Upload a file\n",
    "import os\n",
    "\n",
    "collection = \"leo\"\n",
    "model = \"BAAI/bge-m3\"\n",
    "params = {\"collection\": collection, \"model\": model} \n",
    "\n",
    "files = {'files': (os.path.basename(file_path), open(file_path, 'rb'), \"application/pdf\")}\n",
    "response = session.post(f\"{base_url}/files\", params=params , files=files)\n",
    "\n",
    "response.json()"
   ]
  },
  {
   "cell_type": "code",
   "execution_count": 30,
   "id": "bd6d6140-5c91-4c3e-9350-b6c8550ab145",
   "metadata": {},
   "outputs": [
    {
     "data": {
      "text/plain": [
       "{'object': 'list',\n",
       " 'data': [{'object': 'file',\n",
       "   'id': '1f4fe81b-9802-41db-b23f-8cc90de988a5',\n",
       "   'bytes': 133606,\n",
       "   'filename': 'my_document.pdf',\n",
       "   'created_at': 1721039143},\n",
       "  {'object': 'file',\n",
       "   'id': '32d51719-0aac-48f3-8de3-8558854e03b9',\n",
       "   'bytes': 133606,\n",
       "   'filename': 'my_document.pdf',\n",
       "   'created_at': 1720613757},\n",
       "  {'object': 'file',\n",
       "   'id': '79905d20-ff2e-45e7-9c0e-105f7193442b',\n",
       "   'bytes': 133606,\n",
       "   'filename': 'my_document.pdf',\n",
       "   'created_at': 1720776130},\n",
       "  {'object': 'file',\n",
       "   'id': '9b0a6d52-22cf-4eeb-aaca-1459e5d58c5b',\n",
       "   'bytes': 133606,\n",
       "   'filename': 'my_document.pdf',\n",
       "   'created_at': 1721033179},\n",
       "  {'object': 'file',\n",
       "   'id': 'a26764d1-e46a-40b4-9ecf-a3f00d8304dc',\n",
       "   'bytes': 133606,\n",
       "   'filename': 'my_document.pdf',\n",
       "   'created_at': 1720787068},\n",
       "  {'object': 'file',\n",
       "   'id': 'a2c05605-ecc7-4cd9-a57e-570c20a6c661',\n",
       "   'bytes': 133606,\n",
       "   'filename': 'my_document.pdf',\n",
       "   'created_at': 1720618385},\n",
       "  {'object': 'file',\n",
       "   'id': 'a7fdd4e0-f9b5-4b2d-9bde-0a42d097e7cf',\n",
       "   'bytes': 133606,\n",
       "   'filename': 'my_document.pdf',\n",
       "   'created_at': 1720606506},\n",
       "  {'object': 'file',\n",
       "   'id': 'ae88dda4-247b-4b0c-969c-3abca193e57c',\n",
       "   'bytes': 133606,\n",
       "   'filename': 'my_document.pdf',\n",
       "   'created_at': 1720710589},\n",
       "  {'object': 'file',\n",
       "   'id': 'cb914292-a80e-4ed9-b01a-d6fd24b763ed',\n",
       "   'bytes': 133606,\n",
       "   'filename': 'my_document.pdf',\n",
       "   'created_at': 1720710592},\n",
       "  {'object': 'file',\n",
       "   'id': 'ddcc282b-343f-4ccc-ba7c-e61e0e3903f8',\n",
       "   'bytes': 133606,\n",
       "   'filename': 'my_document.pdf',\n",
       "   'created_at': 1720617321},\n",
       "  {'object': 'file',\n",
       "   'id': 'e34fd32a-cf97-4ea0-87c8-f08f33bcc14c',\n",
       "   'bytes': 133606,\n",
       "   'filename': 'my_document.pdf',\n",
       "   'created_at': 1721039220}]}"
      ]
     },
     "execution_count": 30,
     "metadata": {},
     "output_type": "execute_result"
    }
   ],
   "source": [
    "# Retrieve the file ID for RAG\n",
    "response = session.get(f\"{base_url}/files/{collection}\")\n",
    "\n",
    "response.json()"
   ]
  },
  {
   "cell_type": "code",
   "execution_count": 31,
   "id": "f0957f09-948e-4e42-9c7c-7283d72d4d89",
   "metadata": {},
   "outputs": [],
   "source": [
    "file_id = response.json()[\"data\"][0][\"id\"]"
   ]
  },
  {
   "cell_type": "code",
   "execution_count": 32,
   "id": "74ae61fc-7042-4b80-831e-4d7ee2ee2430",
   "metadata": {},
   "outputs": [
    {
     "data": {
      "text/plain": [
       "{'object': 'list',\n",
       " 'data': [{'id': 'BaseRAG',\n",
       "   'description': 'Base RAG, basic retrival augmented generation.\\n\\n    Args:\\n        embeddings_model (str): OpenAI embeddings model\\n        collection (List[Optional[str]]): Collection names. Defaults to \"user\" parameter.\\n        file_ids (Optional[List[str]], optional): List of file ids for user collections (after upload files). Defaults to None.\\n        k (int, optional): Top K per collection (max: 6). Defaults to 4.\\n        prompt_template (Optional[str], optional): Prompt template. Defaults to DEFAULT_PROMPT_TEMPLATE.',\n",
       "   'object': 'tool'},\n",
       "  {'id': 'UseFiles',\n",
       "   'description': 'Fill your prompt with file contents. Your prompt must contain \"{files}\" placeholder.\\n\\n    Args:\\n        file_ids (List[str]): List of file ids.',\n",
       "   'object': 'tool'},\n",
       "  {'id': 'MultiAgents',\n",
       "   'description': 'MultiAgents, multiple agents for RAG: Recursive Document Retrival & Web Search.\\n\\n    Args:\\n        embeddings_model (str): OpenAI embeddings model\\n        collection (List[Optional[str]]): Collection names. Defaults to \"user\" parameter.\\n        file_ids (Optional[List[str]], optional): List of file ids for user collections (after upload files). Defaults to None.\\n        k (int, optional): Top K per collection (max: 6). Defaults to 4.\\n        prompt_template (Optional[str], optional): Prompt template. Defaults to DEFAULT_PROMPT_TEMPLATE.',\n",
       "   'object': 'tool'}]}"
      ]
     },
     "execution_count": 32,
     "metadata": {},
     "output_type": "execute_result"
    }
   ],
   "source": [
    "# Get tools\n",
    "response = session.get(f\"{base_url}/tools\")\n",
    "\n",
    "response.json()"
   ]
  },
  {
   "cell_type": "code",
   "execution_count": 33,
   "id": "2e5cd813-5c19-4219-a404-6ed154991dfc",
   "metadata": {},
   "outputs": [
    {
     "name": "stdout",
     "output_type": "stream",
     "text": [
      "Base RAG, basic retrival augmented generation.\n",
      "\n",
      "    Args:\n",
      "        embeddings_model (str): OpenAI embeddings model\n",
      "        collection (List[Optional[str]]): Collection names. Defaults to \"user\" parameter.\n",
      "        file_ids (Optional[List[str]], optional): List of file ids for user collections (after upload files). Defaults to None.\n",
      "        k (int, optional): Top K per collection (max: 6). Defaults to 4.\n",
      "        prompt_template (Optional[str], optional): Prompt template. Defaults to DEFAULT_PROMPT_TEMPLATE.\n"
     ]
    }
   ],
   "source": [
    "# Display tools parameters\n",
    "for tool in response.json()[\"data\"]:\n",
    "    if tool[\"id\"] == \"MultiAgents\":\n",
    "        print(tool[\"description\"])"
   ]
  },
  {
   "cell_type": "code",
   "execution_count": 34,
   "id": "d8f7bfe0-161f-442a-ae00-b2e4a64a7681",
   "metadata": {},
   "outputs": [],
   "source": [
    "# OpenAI client configuration\n",
    "from openai import OpenAI\n",
    "\n",
    "client = OpenAI(base_url=base_url, api_key=api_key)"
   ]
  },
  {
   "cell_type": "code",
   "execution_count": 37,
   "id": "f374c1ad-b5ec-4870-a11a-953c7d219f94",
   "metadata": {},
   "outputs": [
    {
     "name": "stdout",
     "output_type": "stream",
     "text": [
      "C'est exact ! Pour refaire une pièce d'identité nationale, il est nécessaire de contacter l'autorité compétente et de suivre les étapes suivantes :\n",
      "\n",
      "* Pour une carte d'identité : il est recommandé de contacter la préfecture ou la mairie du lieu de résidence pour obtenir les informations et les formulaire nécessaires.\n",
      "* Pour un passeport : vous devrez contacter le ministère des Affaires étrangères ou un centre de recrutement de passeport pour obtenir les informations et les formulaire nécessaires.\n",
      "* Pour un permis de conduire : vous devrez contacter la préfecture ou la mairie du lieu de résidence pour obtenir les informations et les formulaire nécessaires.\n",
      "\n",
      "Il est important de fournir les pièces justificatives requises et de remplir les formulaires appropriés. Il est également recommandé de vérifier les délais et les formalités spécifiques pour chaque type de pièce d'identité pour éviter tout retard ou erreur.\n"
     ]
    }
   ],
   "source": [
    "# Chat completions\n",
    "user = \"leo\"\n",
    "chat_id = \"0e64d044-1c1f-4c49-832a-2b426efe4fa8\"\n",
    "\n",
    "\n",
    "data = {\n",
    "    \"model\": \"AgentPublic/llama3-instruct-8b\",\n",
    "    \"messages\": [{\"role\": \"user\", \"content\": \"Comment refaire une pièce d'identité nationale ?\"}],\n",
    "    \"stream\": False,\n",
    "    \"n\": 1,\n",
    "    \"user\": user,\n",
    "    \"tools\": [\n",
    "        {\n",
    "            \"function\": {\n",
    "                \"name\": \"MultiAgents\",\n",
    "                \"parameters\": {\n",
    "                    \"embeddings_model\": model,\n",
    "                    \"collections\": [collection],\n",
    "                    \"chat_id\": chat_id,\n",
    "                    # \"k\": 2,\n",
    "                },\n",
    "            },\n",
    "            \"type\": \"function\",\n",
    "        }\n",
    "    ],\n",
    "}\n",
    "\n",
    "response = client.chat.completions.create(**data)\n",
    "print(response.choices[0].message.content)"
   ]
  },
  {
   "cell_type": "code",
   "execution_count": null,
   "id": "c30ffc8d",
   "metadata": {},
   "outputs": [],
   "source": [
    "# Using WEB\n",
    "\n",
    "# Chat completions\n",
    "user = \"leo\"\n",
    "chat_id = \"0e64d044-1c1f-4c49-832a-2b426efe4fa8\"\n",
    "\n",
    "\n",
    "data = {\n",
    "    \"model\": \"AgentPublic/llama3-instruct-8b\",\n",
    "    \"messages\": [{\"role\": \"user\", \"content\": \"web: Comment déclarer ses impots ?\"}],\n",
    "    \"stream\": False,\n",
    "    \"n\": 1,\n",
    "    \"user\": user,\n",
    "    \"tools\": [\n",
    "        {\n",
    "            \"function\": {\n",
    "                \"name\": \"MultiAgents\",\n",
    "                \"parameters\": {\n",
    "                    \"embeddings_model\": model,\n",
    "                    \"collections\": [collection],\n",
    "                    \"chat_id\": chat_id,\n",
    "                    # \"k\": 2,\n",
    "                },\n",
    "            },\n",
    "            \"type\": \"function\",\n",
    "        }\n",
    "    ],\n",
    "}\n",
    "\n",
    "response = client.chat.completions.create(**data)\n",
    "print(response.choices[0].message.content)"
   ]
  },
  {
   "cell_type": "code",
   "execution_count": 36,
   "id": "6dd19051-bb51-4b0c-b300-f86b39f17ee0",
   "metadata": {},
   "outputs": [
    {
     "name": "stdout",
     "output_type": "stream",
     "text": [
      "web: Comment refaire une pièce d'identité nationale ?\n"
     ]
    }
   ],
   "source": [
    "# View chat history\n",
    "chat_id = response.id\n",
    "\n",
    "response = session.get(url=f\"{base_url}/chat/history/{user}/{chat_id}\")\n",
    "print(response.json()[\"messages\"][0][\"content\"])"
   ]
  }
 ],
 "metadata": {
  "kernelspec": {
   "display_name": "Python 3 (ipykernel)",
   "language": "python",
   "name": "python3"
  },
  "language_info": {
   "codemirror_mode": {
    "name": "ipython",
    "version": 3
   },
   "file_extension": ".py",
   "mimetype": "text/x-python",
   "name": "python",
   "nbconvert_exporter": "python",
   "pygments_lexer": "ipython3",
   "version": "3.10.14"
  }
 },
 "nbformat": 4,
 "nbformat_minor": 5
}
