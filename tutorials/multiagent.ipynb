{
 "cells": [
  {
   "cell_type": "markdown",
   "id": "4ec838ca-2391-4aac-b71a-d6800b4d9b05",
   "metadata": {},
   "source": [
    "# Mulitagent RAG"
   ]
  },
  {
   "cell_type": "code",
   "execution_count": 87,
   "id": "7ef2ffcb-6192-48e7-a3d6-21b147bf98f3",
   "metadata": {},
   "outputs": [],
   "source": [
    "# Download a file\n",
    "# import wget\n",
    "\n",
    "file_path = \"my_document.pdf\"\n",
    "# doc_url = \"https://www.legifrance.gouv.fr/download/file/rxcTl0H4YnnzLkMLiP4x15qORfLSKk_h8QsSb2xnJ8Y=/JOE_TEXTE\"\n",
    "\n",
    "# wget.download(doc_url, out=file_path)"
   ]
  },
  {
   "cell_type": "code",
   "execution_count": 88,
   "id": "9b63b174",
   "metadata": {},
   "outputs": [
    {
     "name": "stdout",
     "output_type": "stream",
     "text": [
      "EMBEDDINGS_URL http://albert.gpu.005.etalab.gouv.fr:8001/v1\n",
      "EMBEDDINGS_KEY EMPTY\n",
      "docs [(Document(metadata={'date': '2023-06-12', 'keywords': \"['contrat', 'écrit', 'temps', 'écrits', 'indéterminée', 'partiel', 'msa', 'contrats', 'durée', 'complet']\", 'potential_questions': '[ \"Quels sont les contrats de travail qui ne doivent pas être écrits ?\", \"Quels sont les documents que l\\'employeur doit remettre au salarié en cas de contrat verbal ?\" ]', 'pubId': 'article100976', 'title': 'Contrat de travail\\xa0: les principales caractéristiques', 'url': 'https://travail-emploi.gouv.fr/droit-du-travail/la-vie-du-contrat-de-travail/article/contrat-de-travail-les-principales-caracteristiques', '_id': '85e738d9-552f-4f8a-8d00-e935f93d8a57', '_collection_name': 'fiches-travail'}, page_content='potential_questions : [ \"Quels sont les contrats de travail qui ne doivent pas être écrits ?\", \"Quels sont les documents que l\\'employeur doit remettre au salarié en cas de contrat verbal ?\" ] \\n keywords : [\\'contrat\\', \\'écrit\\', \\'temps\\', \\'écrits\\', \\'indéterminée\\', \\'partiel\\', \\'msa\\', \\'contrats\\', \\'durée\\', \\'complet\\'] \\n url : https://travail-emploi.gouv.fr/droit-du-travail/la-vie-du-contrat-de-travail/article/contrat-de-travail-les-principales-caracteristiques \\n date : 2023-06-12 \\n title : Contrat de travail\\xa0: les principales caractéristiques \\n pubId : article100976 \\n \\n Extrait article : Seul le contrat à durée indéterminée (CDI) à temps complet peut être non-écrit (la convention collective applicable peut toutefois, même dans ce cas, imposer la rédaction d’un écrit). Le contrat est alors qualifié d’oral, de verbal ou de tacite (pour éviter des contentieux inutiles, il est toujours préférable de conclure un contrat de travail écrit).Toutefois, si le contrat reste verbal, l’employeur a l’obligation de remettre au salarié un document écrit reprenant les informations contenues dans la déclaration préalable à l’embauche adressée à l’URSSAF (ou à la Mutualité sociale agricole - MSA). Cette obligation de remise est considérée comme satisfaite dès lors que le salarié dispose d’un contrat de travail écrit, accompagné de la mention de l’organisme destinataire de la déclaration (selon le cas, Urssaf ou caisse de MSA). Dans tous les cas, l’employeur est également tenu de remettre au salarié un ou plusieurs documents écrits précisant les informations essentielles relatives à la relation de travail ; sur cette obligation, issue de la loi du 9 mars 2023 et du décret du 30 octobre 2023 pris pour son application, on se reportera aux précisions figurant sur notre site.Hormis le CDI à temps complet, tous les autres contrats doivent être écrits (en cas de recours au CESU pour un CDD ou un temps partiel, voir précisions sur notre site). Sont concernés : Le contrat à durée indéterminée à temps partiel ; Le contrat à durée déterminée ; Le contrat de travail à temps partiel ; Le contrat de travail intermittent ; Le contrat de travail temporaire ; Le contrat de professionnalisation ; Le contrat d’apprentissage ; Les contrats spécifiques prévus pour les personnes en difficulté, notamment le contrat unique d’insertion, dans sa forme contrat d’accompagnement dans l’emploi ou contrat initiative-emploi ; Les contrats conclus avec les groupements d’employeurs ; Le contrat de travail en portage salarial à durée déterminée, ou à durée indéterminée.'), 0.7098191, 'fiches-travail'), (Document(metadata={'date': '2021-12-21', 'keywords': \"['écrit', 'étranger', 'contrat', 'français', 'indéterminée', 'langue', 'rédigé', 'constaté', 'textes', 'salarié']\", 'potential_questions': '[ \"Quel type de contrat de travail peut être non écrit, sauf disposition conventionnelle contraire ? \", \"Dans quel cas le contrat de travail doit comporter une explication en français d\\'un terme étranger ?\" ]', 'pubId': 'article103932', 'title': 'Le contrat de travail à durée indéterminée (CDI)', 'url': 'https://travail-emploi.gouv.fr/droit-du-travail/les-contrats-de-travail/article/le-contrat-de-travail-a-duree-indeterminee-cdi', '_id': '0cb4ebd0-1e5c-4a5c-9167-8053a62b6799', '_collection_name': 'fiches-travail'}, page_content='potential_questions : [ \"Quel type de contrat de travail peut être non écrit, sauf disposition conventionnelle contraire ? \", \"Dans quel cas le contrat de travail doit comporter une explication en français d\\'un terme étranger ?\" ] \\n keywords : [\\'écrit\\', \\'étranger\\', \\'contrat\\', \\'français\\', \\'indéterminée\\', \\'langue\\', \\'rédigé\\', \\'constaté\\', \\'textes\\', \\'salarié\\'] \\n url : https://travail-emploi.gouv.fr/droit-du-travail/les-contrats-de-travail/article/le-contrat-de-travail-a-duree-indeterminee-cdi \\n date : 2021-12-21 \\n title : Le contrat de travail à durée indéterminée (CDI) \\n pubId : article103932 \\n \\n Extrait article : Seul le contrat à durée indéterminée (CDI) à temps plein peut être non écrit (sauf disposition conventionnelle contraire imposant la rédaction d’un contrat écrit). Toutefois, si le contrat à durée indéterminée à temps plein reste verbal, l’employeur a l’obligation de remettre au salarié un document écrit reprenant les informations contenues dans la déclaration préalable à l’embauche adressée à l’URSSAF.Le contrat de travail constaté par écrit doit être rédigé en français. Il peut toutefois arriver que l’emploi faisant l’objet du contrat ne puisse être désigné que par un terme étranger sans correspondant en français ; dans ce cas, le contrat de travail doit comporter une explication en français du terme étranger.Lorsque le salarié est étranger et le contrat constaté par écrit, une traduction du contrat est rédigée, à la demande du salarié, dans la langue de ce dernier. Les deux textes font également foi en justice. En cas de discordance entre les deux textes, seul le texte rédigé dans la langue du salarié étranger peut être invoqué contre ce dernier.Les dispositions visées ci-dessus s’appliquent à tous les contrats de travail, qu’ils soient conclus ou non pour une durée indéterminée.'), 0.7019805, 'fiches-travail'), (Document(metadata={'date': '2021-12-21', 'keywords': \"['contraires', 'conventionnelles', 'cdi', 'plein', 'écrit', 'conclu', 'sauf', 'objet', 'savoir', 'faire']\", 'potential_questions': '[\"Quel est le cas où le CDI peut ne pas faire l\\'objet d\\'un écrit ?\", \"Quelles sont les dispositions qui peuvent contrarier l\\'absence d\\'écrit pour un CDI ?\"]', 'pubId': 'article103932', 'title': 'Le contrat de travail à durée indéterminée (CDI)', 'url': 'https://travail-emploi.gouv.fr/droit-du-travail/les-contrats-de-travail/article/le-contrat-de-travail-a-duree-indeterminee-cdi', '_id': '3bdb9717-c25c-44db-a09b-1508173f4855', '_collection_name': 'fiches-travail'}, page_content='potential_questions : [\"Quel est le cas où le CDI peut ne pas faire l\\'objet d\\'un écrit ?\", \"Quelles sont les dispositions qui peuvent contrarier l\\'absence d\\'écrit pour un CDI ?\"] \\n keywords : [\\'contraires\\', \\'conventionnelles\\', \\'cdi\\', \\'plein\\', \\'écrit\\', \\'conclu\\', \\'sauf\\', \\'objet\\', \\'savoir\\', \\'faire\\'] \\n url : https://travail-emploi.gouv.fr/droit-du-travail/les-contrats-de-travail/article/le-contrat-de-travail-a-duree-indeterminee-cdi \\n date : 2021-12-21 \\n title : Le contrat de travail à durée indéterminée (CDI) \\n pubId : article103932 \\n \\n Extrait article : A SAVOIR S’il est conclu pour un temps plein, le CDI peut ne pas faire l’objet d’un écrit, sauf dispositions conventionnelles contraires.'), 0.6850342, 'fiches-travail'), (Document(metadata={'date': '2021-12-21', 'keywords': \"['contrat', 'type', 'cdi', 'recours', 'agisse', 'travail', 'autorisant', 'temps', 'normale', 'relation']\", 'potential_questions': '[\"Quel est le type de contrat de travail que l\\'employeur doit avoir recours à, sauf justification spéciale ?\", \"Pouvez-vous travailler à temps partiel sous un CDI ?\"]', 'pubId': 'article103932', 'title': 'Le contrat de travail à durée indéterminée (CDI)', 'url': 'https://travail-emploi.gouv.fr/droit-du-travail/les-contrats-de-travail/article/le-contrat-de-travail-a-duree-indeterminee-cdi', '_id': '1bf72f13-e504-4881-815e-ceb915069fb3', '_collection_name': 'fiches-travail'}, page_content='potential_questions : [\"Quel est le type de contrat de travail que l\\'employeur doit avoir recours à, sauf justification spéciale ?\", \"Pouvez-vous travailler à temps partiel sous un CDI ?\"] \\n keywords : [\\'contrat\\', \\'type\\', \\'cdi\\', \\'recours\\', \\'agisse\\', \\'travail\\', \\'autorisant\\', \\'temps\\', \\'normale\\', \\'relation\\'] \\n url : https://travail-emploi.gouv.fr/droit-du-travail/les-contrats-de-travail/article/le-contrat-de-travail-a-duree-indeterminee-cdi \\n date : 2021-12-21 \\n title : Le contrat de travail à durée indéterminée (CDI) \\n pubId : article103932 \\n \\n Extrait article : Le contrat de travail à durée indéterminée (CDI) constitue la forme normale et générale de la relation de travail. L’employeur doit donc avoir recours à ce type de contrat, sauf s’il peut justifier d’une situation autorisant le recours à un autre type de contrat, qu’il s’agisse notamment d’un contrat de travail à durée déterminée ou d’un contrat de travail temporaire. Le CDI peut être conclu pour un temps plein ou pour un temps partiel.'), 0.65621614, 'fiches-travail'), (Document(metadata={'date': '2021-12-21', 'keywords': \"['clause', 'clauses', 'cdi', 'célibat', 'contrats', 'sachant', 'interdites', 'intermittents', 'visés', 'contraires']\", 'potential_questions': '[\"Quels sont les types de contrats qui doivent comporter au minimum les mentions prévues par le code du travail ?\", \"Quel type de clauses sont interdites car contraires à l\\'ordre public ?\"]', 'pubId': 'article103932', 'title': 'Le contrat de travail à durée indéterminée (CDI)', 'url': 'https://travail-emploi.gouv.fr/droit-du-travail/les-contrats-de-travail/article/le-contrat-de-travail-a-duree-indeterminee-cdi', '_id': '36d8ffbc-7993-4655-a0f1-0cc772e6cc1b', '_collection_name': 'fiches-travail'}, page_content='potential_questions : [\"Quels sont les types de contrats qui doivent comporter au minimum les mentions prévues par le code du travail ?\", \"Quel type de clauses sont interdites car contraires à l\\'ordre public ?\"] \\n keywords : [\\'clause\\', \\'clauses\\', \\'cdi\\', \\'célibat\\', \\'contrats\\', \\'sachant\\', \\'interdites\\', \\'intermittents\\', \\'visés\\', \\'contraires\\'] \\n url : https://travail-emploi.gouv.fr/droit-du-travail/les-contrats-de-travail/article/le-contrat-de-travail-a-duree-indeterminee-cdi \\n date : 2021-12-21 \\n title : Le contrat de travail à durée indéterminée (CDI) \\n pubId : article103932 \\n \\n Extrait article : Il appartient à l’employeur et au salarié de déterminer le contenu du contrat de travail et les clauses particulières qui devront éventuellement y figurer en fonction des circonstances (clause de mobilité, clause de non-concurrence…), sachant toutefois : que les clauses contraires à l’ordre public sont interdites : clause de célibat, rémunération inférieure au Smic, clause discriminatoire… ; que les contrats dont la rédaction est obligatoire doivent comporter, au minimum, les mentions prévues par le code du travail. Sont visés les contrats à durée déterminée ou de travail temporaire, mais aussi, s’agissant des CDI, ceux conclus pour un temps partiel ou encore les CDI intermittents.'), 0.652625, 'fiches-travail'), (Document(metadata={'file_id': 'c528e393-ff72-4cd7-a8c3-4194548e1d24', '_id': '3ad80ce8-70aa-49ae-8b9e-453514f0b3ef', '_collection_name': 'ctawa1ch0sncmh5w-leo'}, page_content='–  Mme Elsa Le Duigou, agent contractuel ; –  M. Valentin Brel, agent contractuel ; –  Mme Margot Sanchez, agent contractuel ; –  M. Paul Burgun, agent contractuel ; –  Mme Emma Ghariani, agent contractuel. Art.  5.  –  Délégation est donnée à Mme Géraldine Taurand, attachée d’administration hors classe, cheffe de la mission « Budget et achats », pour signer tous actes de gestion et procéder aux validations électronique dans l’outil'), 0.4423316, 'ctawa1ch0sncmh5w-leo'), (Document(metadata={'keywords': \"['véhicule', 'assurance', 'circulation', 'véhicules', 'moteur', 'obligation', 'voiture', 'moto', 'responsabilité', 'garantie']\", 'potential_questions': '[ \"Quels sont les véhicules terrestres à moteur concernés par l\\'obligation d\\'assurance responsabilité civile en France ?\", \"Quels sont les risques couverts par l\\'assurance responsabilité civile pour les véhicules terrestres à moteur en France ?\" ]', 'subject': 'Argent - Impôts - Consommation', 'theme': 'Argent - Impôts - Consommation, Argent - Impôts - Consommation', 'title': 'Assurance auto obligatoire ou \"au tiers\"', 'url': 'https://www.service-public.fr/particuliers/vosdroits/F2628', '_id': '74a1ea13-c4d5-4461-90e2-ce2e95e5dda1', '_collection_name': 'fiches-vos-droits'}, page_content='potential_questions : [ \"Quels sont les véhicules terrestres à moteur concernés par l\\'obligation d\\'assurance responsabilité civile en France ?\", \"Quels sont les risques couverts par l\\'assurance responsabilité civile pour les véhicules terrestres à moteur en France ?\" ] \\n keywords : [\\'véhicule\\', \\'assurance\\', \\'circulation\\', \\'véhicules\\', \\'moteur\\', \\'obligation\\', \\'voiture\\', \\'moto\\', \\'responsabilité\\', \\'garantie\\'] \\n title : Assurance auto obligatoire ou \"au tiers\" \\n subject : Argent - Impôts - Consommation \\n url : https://www.service-public.fr/particuliers/vosdroits/F2628 \\n theme : Argent - Impôts - Consommation, Argent - Impôts - Consommation \\n \\n Extrait article : le propriétaire d\\'un véhicule terrestre à moteur (voiture, moto, ...) qui l\\'utilise sur la voie publique doit l\\'assurer au minimum pour la garantie responsabilité civile . l\\'assurance responsabilité civile, appelée parfois assurance au tiers , sert à indemniser les victimes des dommages causés par le véhicule. le non-respect de l\\'obligation d\\'assurance est puni pénalement. nous vous présentons les règles applicables. qui est concerné par l\\'obligation d\\'assurance responsabilité civile ? tout propriétaire d\\'un véhicule terrestre à moteur destiné à circuler en france doit l\\'assurer. l\\'assurance ne doit pas forcément être prise en france, mais elle doit couvrir les déplacements vers la france. véhicules concernés l\\'obligation d\\'assurance concerne tous les véhicules terrestres à moteur qui doivent être immatriculés . il s\\'agit des véhicules suivants : voiture (voiture particulière, véhicule utilitaire, voiture sans-permis), tracteurs et engins agricoles camion engins à 2 ou 3 roues motorisés (moto, scooters) et quads, même non-homologués (mini-moto par exemple) remorque attelée ou non attelée l\\'obligation d\\'assurance concerne aussi certains véhicules terrestres à moteur qui ne doivent pas être immatriculés . il s\\'agit des véhicules suivants : cyclomobiles légers : draisienne, vélo à assistance électrique dont la puissance dépasse 250w ou dont la vitesse dépasse 25 km/h etc.. edpm : trottinettes électriques , trottinette électrique, monoroue, gyropode, hoverboard, etc... tondeuses autoportées , munies d\\'un siège qui permet au conducteur de les manœuvrer condition de mise en circulation le véhicule destiné à circuler n\\'est pas nécessairement un véhicule qui est en circulation, mais un véhicule qui peut être mis en circulation. ainsi, le fait de ne pas utiliser le véhicule pendant une longue période ne permet pas d\\'échapper à l\\'obligation d\\'assurance, puisque le véhicule peut être mis en circulation. de même, le fait de stationner le véhicule dans un garage privé ne permet pas non plus d\\'échapper à l\\'obligation d\\'assurance. en effet, le véhicule peut être mis en circulation par un tiers (un voleur par exemple) et provoquer des dégâts. comment souscrire une assurance automobile ? pour souscrire une assurance auto , vous pouvez contacter une compagnie d\\'assurance, directement ou via un agent général ou un courtier, ou une banque. quels sont les risques couverts par l\\'assurance au tiers ? la garantie responsabilité civile , appelée souvent assurance au tiers , est la garantie minimale que vous devez souscrire pour assurer votre véhicule. cette garantie couvre les dommages que le véhicule peut occasionner : blessure d\\'un piéton ou d\\'un passager, dégât causé à un autre véhicule ou à un bâtiment par exemple. en revanche, le conducteur du véhicule et la personne reconnue responsable de l\\'accident ne seront pas indemnisés pour les dommages qu\\'ils ont subis. à noter vous pouvez prendre des assurances facultatives pour couvrir plus de situations. que faire en cas de refus d\\'assurance du véhicule ?'), 0.43476784, 'fiches-vos-droits'), (Document(metadata={'file_id': 'c528e393-ff72-4cd7-a8c3-4194548e1d24', '_id': 'd6d80776-b382-4014-afd9-baed9c5e26a0', '_collection_name': 'ctawa1ch0sncmh5w-leo'}, page_content='–  M. Perica Sucevic, agent contractuel, préfigurateur de la mission « Droit et international » ; –  Mme Floriane Beaudron, agente contractuelle, cheffe de la mission « Communication ». Art.  3.  –  Délégation est donnée à l’effet de signer au nom du ministre de la transformation et de la fonction publiques ainsi qu’au nom de la Première ministre, tous actes relevant des attributions de leurs pôles, et notamment'), 0.4343704, 'ctawa1ch0sncmh5w-leo'), (Document(metadata={'keywords': \"['véhicule', 'assurance', 'vente', 'marque', 'assureur', 'numéro', 'contrat', 'soir', '15776', 'minuit']\", 'potential_questions': '[ \"Quels éléments doivent être mentionnés dans une lettre pour demander le transfert d\\'une assurance automobile après la vente d\\'un véhicule ?\", \"Quelle est la procédure à suivre pour suspendre temporairement un contrat d\\'assurance automobile après la vente d\\'un véhicule ?\" ]', 'subject': 'Argent - Impôts - Consommation', 'theme': 'Argent - Impôts - Consommation', 'title': \"Comment résilier l'assurance si vous vendez votre voiture ?\", 'url': 'https://www.service-public.fr/particuliers/vosdroits/F2664', '_id': '3707d7be-a164-4888-8772-de105385d4ae', '_collection_name': 'fiches-vos-droits'}, page_content='potential_questions : [ \"Quels éléments doivent être mentionnés dans une lettre pour demander le transfert d\\'une assurance automobile après la vente d\\'un véhicule ?\", \"Quelle est la procédure à suivre pour suspendre temporairement un contrat d\\'assurance automobile après la vente d\\'un véhicule ?\" ] \\n keywords : [\\'véhicule\\', \\'assurance\\', \\'vente\\', \\'marque\\', \\'assureur\\', \\'numéro\\', \\'contrat\\', \\'soir\\', \\'15776\\', \\'minuit\\'] \\n title : Comment résilier l\\'assurance si vous vendez votre voiture ? \\n subject : Argent - Impôts - Consommation \\n url : https://www.service-public.fr/particuliers/vosdroits/F2664 \\n theme : Argent - Impôts - Consommation \\n \\n Extrait article : vous pouvez utiliser un modèle de lettre : il faut indiquer dans votre courrier les éléments suivants : coordonnées numéro de contrat d\\'assurance date de la vente marque du véhicule et son numéro d\\'immatriculation marque du nouveau véhicule à assurer et son numéro d\\'immatriculation renseignements sur le nouveau propriétaire de la voiture vendue vous devez joindre à votre courrier une photocopie du formulaire de cession de véhicule cerfa n°15776 (conservez l\\'original). le contrat d\\'assurance initial sera suspendu dès le soir de la vente, à minuit. le transfert de l\\'assurance sera effectif une fois que l\\'avenant contenant les nouvelles conditions proposées par l\\'assureur aura été signé par vous ou par le nouvel assuré. cas n°3 : suspension du contrat : si vous vendez votre véhicule et que vous souhaitez transférer l\\'assurance sur une autre voiture, mais que vous n\\'avez pas encore achetée, vous pouvez demander à votre assureur de suspendre temporairement le contrat. la part de votre cotisation correspondant à la période de non assurance sera imputée sur la cotisation due comme nouvelle couverture. vous devez obligatoirement déclarer la vente de votre véhicule à votre assureur par lettre recommandée ou par un envoi recommandé électronique . vous pouvez utiliser un modèle : ii faut indiquer dans votre courrier les éléments suivants : coordonnées numéro de contrat d\\'assurance date de la vente marque du véhicule et son numéro d\\'immatriculation expression de votre volonté de suspendre le contrat et la durée de suspension souhaitée vous devez joindre à votre courrier une photocopie du formulaire de cession de véhicule cerfa n°15776 (conservez l\\'original). le contrat d\\'assurance sera suspendu dès le soir de la vente, à minuit. il reprendra vie sur le nouveau véhicule une fois que vous aurez signé l\\'avenant contenant les nouvelles conditions d\\'assurances proposées par l\\'assureur.'), 0.42689407, 'fiches-vos-droits'), (Document(metadata={'file_id': 'c528e393-ff72-4cd7-a8c3-4194548e1d24', '_id': '5c9600f8-ab12-430b-b0f1-83aa5cad1221', '_collection_name': 'ctawa1ch0sncmh5w-leo'}, page_content='Art.  1er.  –  Délégation est donnée à l’effet de signer au nom du ministre de la transformation et de la fonction publiques  ainsi  qu’au  nom  de  la  Première  ministre,  tous  actes  relevant  des  attributions  de  leurs  département,  et notamment  les  conventions,  commandes  et  certifications  de  services  faits  d’un  montant  strictement  inférieur à 208 000 € hors taxes, aux agents suivants :'), 0.41736206, 'ctawa1ch0sncmh5w-leo'), (Document(metadata={'keywords': \"['respect', 'véhicules', 'radar', 'circulation', 'constatables', 'circulant', 'infractions', 'arrêt', 'non', 'marche']\", 'potential_questions': '[\"Quelles sont les infractions routières constatables par radar ?\", \"Quelles sont les conséquences financières d\\'une infraction routière constatée par radar si l\\'on ne respecte pas les obligations ?\"]', 'subject': 'Transports - Mobilité', 'theme': 'Transports - Mobilité, Transports - Mobilité, Transports - Mobilité, Transports - Mobilité, Transports - Mobilité', 'title': \"Comment faire si un véhicule d'entreprise a été flashé par un radar ?\", 'url': 'https://www.service-public.fr/particuliers/vosdroits/F31882', '_id': '476d717d-593c-4c6f-a9c2-f5e6157da742', '_collection_name': 'fiches-vos-droits'}, page_content='potential_questions : [\"Quelles sont les infractions routières constatables par radar ?\", \"Quelles sont les conséquences financières d\\'une infraction routière constatée par radar si l\\'on ne respecte pas les obligations ?\"] \\n keywords : [\\'respect\\', \\'véhicules\\', \\'radar\\', \\'circulation\\', \\'constatables\\', \\'circulant\\', \\'infractions\\', \\'arrêt\\', \\'non\\', \\'marche\\'] \\n title : Comment faire si un véhicule d\\'entreprise a été flashé par un radar ? \\n subject : Transports - Mobilité \\n url : https://www.service-public.fr/particuliers/vosdroits/F31882 \\n theme : Transports - Mobilité, Transports - Mobilité, Transports - Mobilité, Transports - Mobilité, Transports - Mobilité \\n \\n Extrait article : la démarche se fait : soit en ligne sur le site de l\\' antai , en utilisant les informations figurant sur l\\'avis de contravention. un accusé d’enregistrement peut être téléchargé ou imprimé à la fin de la démarche. soit par courrier rar avec le formulaire joint à l\\'avis de contravention . si vous ne respectez pas ces obligations, vous risquez une amende forfaitaire de 135 € . en cas de contestation, le juge peut prononcer une amende maximale de 750 € savoir quelles infractions routières sont constatables par radar les infractions suivantes sont constatables par ou à partir d\\'un appareil de contrôle automatique homologué ( radar fixe ou mobile) : non-respect des signalisations imposant l\\'arrêt des véhicules (feu rouge, stop...) non-respect des vitesses maximales autorisées la constatation par radar est également prévue pour les infractions suivantes dès que les appareils de contrôle automatique seront homologués : absence de port de la ceinture de sécurité usage du téléphone portable tenu en main usage de voies et chaussées réservées à certaines catégories de véhicules comme les bus et les taxis circulation, arrêt, et stationnement sur les bandes d\\'arrêt d\\'urgence non-respect des distances de sécurité entre les véhicules chevauchement et franchissement des lignes continues circulation en sens interdit demi-tour ou marche arrière sur une autoroute non-respect de certaines règles de dépassement engagement dans une intersection risquant d\\'empêcher le passage d\\'un véhicule circulant sur l\\'autre voie absence de port du casque à deux-roues motorisé non respect du niveau d\\'émissions sonores d\\'un véhicule circulant à l\\'intérieur d\\'une agglomération sur une voie où la vitesse maximale autorisée ne dépasse pas 50 km/ h non-respect des règles concernant les limites de poids de certains véhicules ou ensembles de véhicules circulation, en marche normale, sur la partie gauche d\\'une chaussée à double sens de circulation'), 0.41306806, 'fiches-vos-droits'), (Document(metadata={'file_id': 'c528e393-ff72-4cd7-a8c3-4194548e1d24', '_id': 'fbc3ace6-27b5-4ab8-8089-440cdee44e3c', '_collection_name': 'ctawa1ch0sncmh5w-leo'}, page_content='les conventions, commandes et certifications de services faits d’un montant strictement inférieur à 40 000 € hors taxes, aux agents suivants :'), 0.411404, 'ctawa1ch0sncmh5w-leo'), (Document(metadata={'file_id': 'c528e393-ff72-4cd7-a8c3-4194548e1d24', '_id': '1cca5046-fbda-4620-ba14-d88cd09c1328', '_collection_name': 'ctawa1ch0sncmh5w-leo'}, page_content='–  M. Gilles Corbi, agent contractuel, chef du pôle Production du département « ISO » ; –  M. Yann Brûlé, grade, chef du pôle « SI RIE » du département « ISO » ; –  M. Ulrich Tan, chef du pôle Datamin du département « Etalab » ; –  Mme Marie-Christie Ritz, cheffe du pôle « RH et attractivité » ; –  Mme Fadila Leturcq, cheffe du pôle « Campus du numérique ». 21  juin 2023 JOURNAL  OFFICIEL  DE  LA  RÉPUBLIQUE  FRANÇAISE Texte 5 sur 95'), 0.40965718, 'ctawa1ch0sncmh5w-leo'), (Document(metadata={'keywords': \"['grise', 'véhicule', 'principal', 'titulaire', 'carte', 'cotitulaires', 'détenteur', 'monsieur', 'madame', 'permis']\", 'potential_questions': '[ \"Quel est le rôle des titulaires et co-titulaires sur la carte grise ?\", \"Quels sont les éléments obligatoires mentionnés sur la carte grise d\\'un véhicule ?\" ]', 'subject': 'Transports - Mobilité', 'theme': 'Transports - Mobilité', 'title': \"Titulaire et cotitulaires du certificat d'immatriculation (ex-carte grise)\", 'url': 'https://www.service-public.fr/particuliers/vosdroits/F10477', '_id': '640726f7-6494-47b3-9144-21684b0caaac', '_collection_name': 'fiches-vos-droits'}, page_content='potential_questions : [ \"Quel est le rôle des titulaires et co-titulaires sur la carte grise ?\", \"Quels sont les éléments obligatoires mentionnés sur la carte grise d\\'un véhicule ?\" ] \\n keywords : [\\'grise\\', \\'véhicule\\', \\'principal\\', \\'titulaire\\', \\'carte\\', \\'cotitulaires\\', \\'détenteur\\', \\'monsieur\\', \\'madame\\', \\'permis\\'] \\n title : Titulaire et cotitulaires du certificat d\\'immatriculation (ex-carte grise) \\n subject : Transports - Mobilité \\n url : https://www.service-public.fr/particuliers/vosdroits/F10477 \\n theme : Transports - Mobilité \\n \\n Extrait article : un véhicule est immatriculé par un ou plusieurs propriétaires d\\'un véhicule. le propriétaire et les co-propriétaires sont alors appelés titulaires et co-titulaires . ils n\\'ont pas nécessairement de lien de parenté. nous répondons à vos questions. peut-on indiquer plusieurs noms sur la carte grise ? oui, la carte grise, désormais appelée certificat d\\'immatriculation , peut être établie au nom de plusieurs personnes, physiques ou morales. le titulaire principal de la carte grise doit être détenteur du permis l\\'autorisant à conduire le véhicule à immatriculer. si ce n\\'est pas le cas, il faut désigner comme titulaire principal le détenteur du permis. le nombre de cotitulaires apparaît sur la carte dans la rubrique c.4.1. à savoir les indications telles que monsieur, mademoiselle, madame, monsieur et madame, monsieur ou madame ne peuvent plus apparaître sur la carte grise. quels noms apparaissent sur la carte grise ? les noms et prénoms de chaque cotitulaire sont inscrits dans le système d\\'immatriculation des véhicules (siv) , mais n\\'apparaissent pas sur la carte grise. seules les informations suivantes figurent sur la carte grise : nom et prénom du titulaire principal (rubrique c.1) nombre de cotitulaires, suivi par le nom du 1 er cotitulaire (rubrique c.4.1) les cotitulaires du véhicule doivent-ils avoir le même domicile ? non, les cotitulaires ne sont pas obligés d\\'avoir la même adresse. la carte grise indique uniquement l\\'adresse du titulaire principal. faut-il avoir le permis de conduire pour immatriculer un véhicule à son nom ? oui, le titulaire principal de la carte grise doit être détenteur du permis l\\'autorisant à conduire le véhicule à immatriculer. si le propriétaire du véhicule n\\'a pas le permis correspondant à la catégorie du véhicule, il doit désigner un titulaire principal détenteur de ce permis. le propriétaire du véhicule sera alors inscrit en co-titulaire.'), 0.40341586, 'fiches-vos-droits'), (Document(metadata={'keywords': \"['livraison', 'promoteur', 'logement', 'travaux', 'malfaçons', 'équipements', 'installation', 'constater', 'réserves', 'réception']\", 'potential_questions': '[\"Quels travaux sont mentionnés dans le contrat de véfa et ne sont pas pris en compte pour constater l\\'achèvement du logement ?\", \"Quels sont les effets de la livraison au jour de la visite ?\"]', 'subject': 'Logement', 'theme': 'Logement, Logement, Logement', 'title': \"Livraison d'un logement vendu en état futur d'achèvement (Véfa)\", 'url': 'https://www.service-public.fr/particuliers/vosdroits/F2956', '_id': '7176dbc3-20ea-4961-a847-060f1fc48bbf', '_collection_name': 'fiches-vos-droits'}, page_content='potential_questions : [\"Quels travaux sont mentionnés dans le contrat de véfa et ne sont pas pris en compte pour constater l\\'achèvement du logement ?\", \"Quels sont les effets de la livraison au jour de la visite ?\"] \\n keywords : [\\'livraison\\', \\'promoteur\\', \\'logement\\', \\'travaux\\', \\'malfaçons\\', \\'équipements\\', \\'installation\\', \\'constater\\', \\'réserves\\', \\'réception\\'] \\n title : Livraison d\\'un logement vendu en état futur d\\'achèvement (Véfa) \\n subject : Logement \\n url : https://www.service-public.fr/particuliers/vosdroits/F2956 \\n theme : Logement, Logement, Logement \\n \\n Extrait article : la livraison est l\\'étape où vous visitez votre maison ou appartement et recevez les clés. c\\'est à cette occasion que vous pouvez constater sa conformité au regard de votre contrat de vente définitif, et émettre d\\'éventuelles réserves en cas de malfaçons. la livraison ne doit pas être confondue avec la réception des travaux qui intervient en amont entre le promoteur et les personnes qui sont chargées de construire votre logement. qu\\'est-ce que la livraison d\\'un logement ? la livraison du logement correspond au moment où le promoteur (le vendeur) vous remet les clés de votre logement (maison ou appartement). la livraison ne doit pas être confondue avec la réception des travaux qui intervient en amont entre le promoteur et les personnes qui sont chargées de construire votre logement. il est également conseillé de demander au promoteur la copie du procès-verbal de réception des travaux pour prendre connaissance des réserves que votre vendeur a pu faire et connaître la date exacte de la réception des travaux. attention la date exacte de la réception des travaux détermine le point de départ des différentes garanties des constructeurs que vous pourrez mettre en œuvre en cas de malfaçons. à quel moment a lieu la livraison ? la livraison est effectuée lorsque le logement est achevé. pour être considéré comme achevé, le logement doit être alimenté en eau, gaz et électricité. l\\'immeuble doit être équipé d\\'escaliers accessibles, d\\'un ascenseur en fonctionnement. il doit disposé d\\'éclairage dans les parties communes. les imperfections mineures (par exemple, les salissures des peintures) n\\'empêchent pas l\\'utilisation des ouvrages et des éléments d\\'équipements. elles ne font donc pas obstacle à la livraison. vous pouvez les mentionner dans les réserves. attention les travaux que vous avez décidé de prendre en charge ne sont pas pris en compte pour constater l\\'achèvement . ces travaux figurent parmi la liste suivante : l\\'installation des équipements sanitaires de la cuisine et, le cas échéant, du mobilier pouvant les accueillir l\\'installation des équipements sanitaires de la salle de bains ou de la salle d\\'eau et, le cas échéant, du mobilier pouvant les accueillir l\\'installation des équipements sanitaires des toilettes la pose de carrelage mural le revêtement du sol à l\\'exclusion de l\\'isolation l\\'équipement en convecteurs électriques, lorsque les caractéristiques de l\\'installation électrique le permettent et dans le respect de la puissance requise la décoration des murs. ces travaux sont mentionnés dans votre contrat de véfa. à savoir vous serez convoqué en vue de la livraison de votre logement par lettre recommandée avec avis de réception. quels sont les effets de la livraison au jour de la visite ? lors de la livraison, vous devez vérifier que le logement est bien conforme au contrat de vente définitif . vous pouvez vous faire assister d\\'un professionnel du bâtiment (par exemple, un architecte) ou un commissaire de justice pour constater la conformité du logement. un procès verbal de livraison est dressé en présence du promoteur et rédigé sur papier libre. logement conforme au contrat de vente si vous ne constatez ni malfaçons, ni défauts de conformité, vous devez payer le solde du prix de vente correspondant à 5 % au moment de la livraison.'), 0.40297288, 'fiches-vos-droits')]\n"
     ]
    }
   ],
   "source": [
    "# Qdrant similarity search\n",
    "from qdrant_client import QdrantClient\n",
    "from langchain.vectorstores import Qdrant\n",
    "from langchain_community.embeddings import HuggingFaceBgeEmbeddings\n",
    "from langchain.embeddings import HuggingFaceHubEmbeddings\n",
    "\n",
    "import os\n",
    "import dotenv\n",
    "\n",
    "dotenv.load_dotenv()\n",
    "# embedder\n",
    "EMBEDDINGS_URL = os.getenv(\"EMBEDDINGS_URL\")\n",
    "EMBEDDINGS_KEY = os.getenv(\"EMBEDDINGS_KEY\")\n",
    "\n",
    "print(\"EMBEDDINGS_URL\", EMBEDDINGS_URL)\n",
    "print(\"EMBEDDINGS_KEY\", EMBEDDINGS_KEY)\n",
    "# model_name = \"BAAI/bge-large-en-v1.5\"\n",
    "# model_kwargs = {\"device\": \"cpu\"}\n",
    "# encode_kwargs = {\"normalize_embeddings\": True}\n",
    "# embedder = HuggingFaceBgeEmbeddings(\n",
    "#     model_name=model_name, model_kwargs=model_kwargs, encode_kwargs=encode_kwargs\n",
    "# )\n",
    "# embedder = OpenAIEmbeddings(openai_api_key=EMBEDDINGS_KEY, model=\"BAAI/bge-m3\", base_url=EMBEDDINGS_URL)\n",
    "embedder = HuggingFaceHubEmbeddings(model=EMBEDDINGS_URL, huggingfacehub_api_token=EMBEDDINGS_KEY)\n",
    "\n",
    "\n",
    "client = QdrantClient(\n",
    "    url=\"http://localhost:6333\", api_key=\"multivac-FQ1cWX4DpshdhkXY2m\"\n",
    ")\n",
    "db = Qdrant(client=client, collection_name=\"decision-adlc\", embeddings=embedder)\n",
    "colls = client.get_collections()\n",
    "collection_names = [x[\"name\"] for x in colls.dict()[\"collections\"]]\n",
    "question = \"Un contrat de CDI doit-il être forcément écrit ?\"\n",
    "\n",
    "docs = []\n",
    "\n",
    "for coll in collection_names:\n",
    "    db = Qdrant(client=client, collection_name=coll, embeddings=embedder)\n",
    "    docs_ = db.similarity_search_with_score(question.lower(), k=5)\n",
    "    docs_ = [(*doc, coll) for doc in docs_]\n",
    "    docs = docs + docs_\n",
    "\n",
    "\n",
    "docs = sorted(docs, key=lambda x: x[1], reverse=True)\n",
    "\n",
    "print(\"docs\", docs)"
   ]
  },
  {
   "cell_type": "code",
   "execution_count": 89,
   "id": "9e17262f-ab1a-439e-8342-10334e377d76",
   "metadata": {},
   "outputs": [],
   "source": [
    "# Request configuration\n",
    "import requests\n",
    "\n",
    "base_url = \"http://localhost:8080/v1\"\n",
    "api_key = \"albert\" # enter any value if no api_key is setup in config.ini file\n",
    "\n",
    "session = requests.session()\n",
    "session.headers = {\"Authorization\": f\"Bearer {api_key}\"}  # skip headers if no api_key is setup in config.ini file"
   ]
  },
  {
   "cell_type": "code",
   "execution_count": 90,
   "id": "6852fc7a-0b09-451b-bbc2-939fa96a4d28",
   "metadata": {},
   "outputs": [
    {
     "data": {
      "text/plain": [
       "{'object': 'list',\n",
       " 'data': [{'object': 'upload',\n",
       "   'id': 'ab194eec-4ff8-4919-a076-2ec64da7b9b2',\n",
       "   'filename': 'my_document.pdf',\n",
       "   'status': 'success'}]}"
      ]
     },
     "execution_count": 90,
     "metadata": {},
     "output_type": "execute_result"
    }
   ],
   "source": [
    "# Upload a file\n",
    "import os\n",
    "\n",
    "collection = \"leo\"\n",
    "model = \"BAAI/bge-m3\"\n",
    "params = {\"collection\": collection, \"model\": model} \n",
    "\n",
    "files = {'files': (os.path.basename(file_path), open(file_path, 'rb'), \"application/pdf\")}\n",
    "response = session.post(f\"{base_url}/files\", params=params , files=files)\n",
    "\n",
    "response.json()"
   ]
  },
  {
   "cell_type": "code",
   "execution_count": 91,
   "id": "bd6d6140-5c91-4c3e-9350-b6c8550ab145",
   "metadata": {},
   "outputs": [
    {
     "data": {
      "text/plain": [
       "{'object': 'list',\n",
       " 'data': [{'object': 'file',\n",
       "   'id': '060bcaab-0d56-4b99-89b8-8d1df5b038cc',\n",
       "   'bytes': 133606,\n",
       "   'filename': 'my_document.pdf',\n",
       "   'created_at': 1721385337},\n",
       "  {'object': 'file',\n",
       "   'id': '093f8336-75ce-4c5c-afb2-98cf63c094da',\n",
       "   'bytes': 133606,\n",
       "   'filename': 'my_document.pdf',\n",
       "   'created_at': 1721206658},\n",
       "  {'object': 'file',\n",
       "   'id': '096d32e4-6f88-41be-85b4-ba504887108b',\n",
       "   'bytes': 133606,\n",
       "   'filename': 'my_document.pdf',\n",
       "   'created_at': 1721981635},\n",
       "  {'object': 'file',\n",
       "   'id': '0adecae4-527b-4b61-8912-894fc54834a6',\n",
       "   'bytes': 133606,\n",
       "   'filename': 'my_document.pdf',\n",
       "   'created_at': 1721981668},\n",
       "  {'object': 'file',\n",
       "   'id': '0ce3ca59-d5b3-4f88-be56-39bc26b991e5',\n",
       "   'bytes': 133606,\n",
       "   'filename': 'my_document.pdf',\n",
       "   'created_at': 1721386967},\n",
       "  {'object': 'file',\n",
       "   'id': '0e6feb34-ab04-49f3-9acb-7bc29cbb3d01',\n",
       "   'bytes': 133606,\n",
       "   'filename': 'my_document.pdf',\n",
       "   'created_at': 1721729234},\n",
       "  {'object': 'file',\n",
       "   'id': '1b356b99-48ec-4e54-baa8-8a9854a2a90b',\n",
       "   'bytes': 133606,\n",
       "   'filename': 'my_document.pdf',\n",
       "   'created_at': 1721729018},\n",
       "  {'object': 'file',\n",
       "   'id': '2911b54c-dd47-4e52-91b4-1c2f5c7068f6',\n",
       "   'bytes': 133606,\n",
       "   'filename': 'my_document.pdf',\n",
       "   'created_at': 1721741180},\n",
       "  {'object': 'file',\n",
       "   'id': '39494d35-b8d4-4d47-aa19-6fa0a2ce10a4',\n",
       "   'bytes': 133606,\n",
       "   'filename': 'my_document.pdf',\n",
       "   'created_at': 1721205154},\n",
       "  {'object': 'file',\n",
       "   'id': '3c0c48f2-2d9e-49cd-b062-ab7a167e2f4f',\n",
       "   'bytes': 133606,\n",
       "   'filename': 'my_document.pdf',\n",
       "   'created_at': 1721658392},\n",
       "  {'object': 'file',\n",
       "   'id': '3f4a4538-41d9-440f-9015-c6fa10083e7b',\n",
       "   'bytes': 133606,\n",
       "   'filename': 'my_document.pdf',\n",
       "   'created_at': 1721207863},\n",
       "  {'object': 'file',\n",
       "   'id': '4e31f379-d57a-4cb0-b932-19041bbcc866',\n",
       "   'bytes': 133606,\n",
       "   'filename': 'my_document.pdf',\n",
       "   'created_at': 1721808994},\n",
       "  {'object': 'file',\n",
       "   'id': '5af703da-4464-485f-934b-f7084b3a7f3a',\n",
       "   'bytes': 133606,\n",
       "   'filename': 'my_document.pdf',\n",
       "   'created_at': 1721727732},\n",
       "  {'object': 'file',\n",
       "   'id': '6e2fcb48-733c-4992-b73c-fdc3c52f5928',\n",
       "   'bytes': 133606,\n",
       "   'filename': 'my_document.pdf',\n",
       "   'created_at': 1721741154},\n",
       "  {'object': 'file',\n",
       "   'id': '708301cb-1c54-4cea-ad13-3d649ce7d81d',\n",
       "   'bytes': 133606,\n",
       "   'filename': 'my_document.pdf',\n",
       "   'created_at': 1721808998},\n",
       "  {'object': 'file',\n",
       "   'id': '74710a0a-7c86-4665-a810-4dc7b8a64c6e',\n",
       "   'bytes': 133606,\n",
       "   'filename': 'my_document.pdf',\n",
       "   'created_at': 1721660992},\n",
       "  {'object': 'file',\n",
       "   'id': '7e73120b-5a34-405f-a092-ad5f6ade6927',\n",
       "   'bytes': 133606,\n",
       "   'filename': 'my_document.pdf',\n",
       "   'created_at': 1721728498},\n",
       "  {'object': 'file',\n",
       "   'id': '99f19680-b6e7-4b75-8f96-4a6c6e7a6e12',\n",
       "   'bytes': 133606,\n",
       "   'filename': 'my_document.pdf',\n",
       "   'created_at': 1721723035},\n",
       "  {'object': 'file',\n",
       "   'id': '9cee0487-01e9-4034-812e-1dff5fc11570',\n",
       "   'bytes': 133606,\n",
       "   'filename': 'my_document.pdf',\n",
       "   'created_at': 1721385634},\n",
       "  {'object': 'file',\n",
       "   'id': 'a3e97ae1-ce78-4fac-8688-2230e0364f51',\n",
       "   'bytes': 133606,\n",
       "   'filename': 'my_document.pdf',\n",
       "   'created_at': 1721737410},\n",
       "  {'object': 'file',\n",
       "   'id': 'a4a15cc1-381f-49c1-b954-cd15e8277c76',\n",
       "   'bytes': 133606,\n",
       "   'filename': 'my_document.pdf',\n",
       "   'created_at': 1721741628},\n",
       "  {'object': 'file',\n",
       "   'id': 'a4eff4c0-293c-4d3b-894a-4a15a8ff965c',\n",
       "   'bytes': 133606,\n",
       "   'filename': 'my_document.pdf',\n",
       "   'created_at': 1721660921},\n",
       "  {'object': 'file',\n",
       "   'id': 'ab194eec-4ff8-4919-a076-2ec64da7b9b2',\n",
       "   'bytes': 133606,\n",
       "   'filename': 'my_document.pdf',\n",
       "   'created_at': 1721984823},\n",
       "  {'object': 'file',\n",
       "   'id': 'c528e393-ff72-4cd7-a8c3-4194548e1d24',\n",
       "   'bytes': 133606,\n",
       "   'filename': 'my_document.pdf',\n",
       "   'created_at': 1721982522},\n",
       "  {'object': 'file',\n",
       "   'id': 'ccfbcc80-a268-4273-8a74-c48a5a354775',\n",
       "   'bytes': 133606,\n",
       "   'filename': 'my_document.pdf',\n",
       "   'created_at': 1721981733},\n",
       "  {'object': 'file',\n",
       "   'id': 'cde3d886-2acf-43b1-872e-fe00e9c6445f',\n",
       "   'bytes': 133606,\n",
       "   'filename': 'my_document.pdf',\n",
       "   'created_at': 1721741375},\n",
       "  {'object': 'file',\n",
       "   'id': 'cfd8d599-200f-410f-a0b1-cb5f4b5bc942',\n",
       "   'bytes': 133606,\n",
       "   'filename': 'my_document.pdf',\n",
       "   'created_at': 1721658421},\n",
       "  {'object': 'file',\n",
       "   'id': 'db48817e-0568-40eb-a8e9-6d98884a187c',\n",
       "   'bytes': 133606,\n",
       "   'filename': 'my_document.pdf',\n",
       "   'created_at': 1721206986},\n",
       "  {'object': 'file',\n",
       "   'id': 'eabd4877-43c5-44b1-98dd-fcbc925f83fd',\n",
       "   'bytes': 133606,\n",
       "   'filename': 'my_document.pdf',\n",
       "   'created_at': 1721312828},\n",
       "  {'object': 'file',\n",
       "   'id': 'ec82d536-34e8-436c-848b-26ad56b28c64',\n",
       "   'bytes': 133606,\n",
       "   'filename': 'my_document.pdf',\n",
       "   'created_at': 1721741323}]}"
      ]
     },
     "execution_count": 91,
     "metadata": {},
     "output_type": "execute_result"
    }
   ],
   "source": [
    "# Retrieve the file ID for RAG\n",
    "response = session.get(f\"{base_url}/files/{collection}\")\n",
    "\n",
    "response.json()"
   ]
  },
  {
   "cell_type": "code",
   "execution_count": 92,
   "id": "f0957f09-948e-4e42-9c7c-7283d72d4d89",
   "metadata": {},
   "outputs": [],
   "source": [
    "file_id = response.json()[\"data\"][0][\"id\"]"
   ]
  },
  {
   "cell_type": "code",
   "execution_count": 93,
   "id": "74ae61fc-7042-4b80-831e-4d7ee2ee2430",
   "metadata": {},
   "outputs": [
    {
     "data": {
      "text/plain": [
       "{'object': 'list',\n",
       " 'data': [{'id': 'BaseRAG',\n",
       "   'description': 'Base RAG, basic retrival augmented generation.\\n\\n    Args:\\n        embeddings_model (str): OpenAI embeddings model\\n        collection (Optional[List[str]], optional): List of collections to search in. Defaults to None (all collections).\\n        file_ids (Optional[List[str]], optional): List of file IDs in the selected collections (after upload files). Defaults to None (all files are selected).\\n        k (int, optional): Top K per collection (max: 6). Defaults to 4.\\n        prompt_template (Optional[str], optional): Prompt template. Defaults to DEFAULT_PROMPT_TEMPLATE.',\n",
       "   'object': 'tool'},\n",
       "  {'id': 'UseFiles',\n",
       "   'description': 'Fill your prompt with file contents. Your prompt must contain \"{files}\" placeholder.\\n\\n    Args:\\n        collection (str): Collection name.\\n        file_ids (List[str]): List of file ids in the selected collection.',\n",
       "   'object': 'tool'},\n",
       "  {'id': 'MultiAgents',\n",
       "   'description': 'MultiAgents, multiple agents for RAG: Recursive Document Retrieval & Web Search.\\n\\n    Args:\\n        clients (dict): Dictionary containing initialized clients.',\n",
       "   'object': 'tool'}]}"
      ]
     },
     "execution_count": 93,
     "metadata": {},
     "output_type": "execute_result"
    }
   ],
   "source": [
    "# Get tools\n",
    "response = session.get(f\"{base_url}/tools\")\n",
    "\n",
    "response.json()"
   ]
  },
  {
   "cell_type": "code",
   "execution_count": 94,
   "id": "2e5cd813-5c19-4219-a404-6ed154991dfc",
   "metadata": {},
   "outputs": [
    {
     "name": "stdout",
     "output_type": "stream",
     "text": [
      "MultiAgents, multiple agents for RAG: Recursive Document Retrieval & Web Search.\n",
      "\n",
      "    Args:\n",
      "        clients (dict): Dictionary containing initialized clients.\n"
     ]
    }
   ],
   "source": [
    "# Display tools parameters\n",
    "for tool in response.json()[\"data\"]:\n",
    "    if tool[\"id\"] == \"MultiAgents\":\n",
    "        print(tool[\"description\"])"
   ]
  },
  {
   "cell_type": "code",
   "execution_count": 95,
   "id": "d8f7bfe0-161f-442a-ae00-b2e4a64a7681",
   "metadata": {},
   "outputs": [],
   "source": [
    "# OpenAI client configuration\n",
    "from openai import OpenAI\n",
    "\n",
    "client = OpenAI(base_url=base_url, api_key=api_key)"
   ]
  },
  {
   "cell_type": "code",
   "execution_count": 96,
   "id": "03d923ed",
   "metadata": {},
   "outputs": [
    {
     "name": "stdout",
     "output_type": "stream",
     "text": [
      "models:  [{'id': 'meta-llama/Meta-Llama-3-8B-Instruct', 'created': 1721984824, 'object': 'model', 'owned_by': 'vllm', 'root': 'meta-llama/Meta-Llama-3-8B-Instruct', 'parent': None, 'permission': [{'id': 'modelperm-cf949144de754d1894be622d3639fe81', 'object': 'model_permission', 'created': 1721984824, 'allow_create_engine': False, 'allow_sampling': True, 'allow_logprobs': True, 'allow_search_indices': False, 'allow_view': True, 'allow_fine_tuning': False, 'organization': '*', 'group': None, 'is_blocking': False}]}, {'id': 'gradientai/Llama-3-8B-Instruct-262k', 'created': 1721984824, 'object': 'model', 'owned_by': 'vllm', 'root': 'gradientai/Llama-3-8B-Instruct-262k', 'parent': None, 'permission': [{'id': 'modelperm-3dff31dc92f044b39c084c5ba7342cfe', 'object': 'model_permission', 'created': 1721984824, 'allow_create_engine': False, 'allow_sampling': True, 'allow_logprobs': True, 'allow_search_indices': False, 'allow_view': True, 'allow_fine_tuning': False, 'organization': '*', 'group': None, 'is_blocking': False}]}, {'id': 'mistralai/Mixtral-8x7B-Instruct-v0.1', 'created': 1721984824, 'object': 'model', 'owned_by': 'vllm', 'root': 'mistralai/Mixtral-8x7B-Instruct-v0.1', 'parent': None, 'permission': [{'id': 'modelperm-e7aacd99a13943f69632d76be8502ad3', 'object': 'model_permission', 'created': 1721984824, 'allow_create_engine': False, 'allow_sampling': True, 'allow_logprobs': True, 'allow_search_indices': False, 'allow_view': True, 'allow_fine_tuning': False, 'organization': '*', 'group': None, 'is_blocking': False}]}, {'id': 'AgentPublic/llama3-instruct-8b', 'created': 1721984824, 'object': 'model', 'owned_by': 'vllm', 'type': 'text-generation'}, {'id': 'BAAI/bge-m3', 'created': 1721984825, 'object': 'model', 'owned_by': 'tei', 'type': 'text-embeddings-inference'}, {'id': 'AgentPublic/llama3-instruct-guillaumetell', 'created': 1721984824, 'object': 'model', 'owned_by': 'vllm', 'type': 'text-generation'}, {'id': 'intfloat/multilingual-e5-large', 'created': 1721984825, 'object': 'model', 'owned_by': 'tei', 'type': 'text-embeddings-inference'}, {'id': 'google/gemma-2-9b-it', 'created': 1721984824, 'object': 'model', 'owned_by': 'vllm', 'root': 'google/gemma-2-9b-it', 'parent': None, 'max_model_len': 2048, 'permission': [{'id': 'modelperm-a64031bc89a0475da786b3c75325e34c', 'object': 'model_permission', 'created': 1721984824, 'allow_create_engine': False, 'allow_sampling': True, 'allow_logprobs': True, 'allow_search_indices': False, 'allow_view': True, 'allow_fine_tuning': False, 'organization': '*', 'group': None, 'is_blocking': False}]}]\n"
     ]
    }
   ],
   "source": [
    "models = session.get(f\"{base_url}/models\")\n",
    "print(\"models: \", models.json()[\"data\"])"
   ]
  },
  {
   "cell_type": "code",
   "execution_count": 97,
   "id": "f374c1ad-b5ec-4870-a11a-953c7d219f94",
   "metadata": {},
   "outputs": [
    {
     "name": "stdout",
     "output_type": "stream",
     "text": [
      "Oui, selon l'extrait 'Les congés pour événements familiaux et le congé de deuil', le salarié peut bénéficier d'un congé pour un mariage. Il peut prendre ce congé au moment de l'événement, mais pas nécessairement le jour du mariage, mais dans la période entourant cet événement. 🎉\n"
     ]
    }
   ],
   "source": [
    "# Chat completions\n",
    "user = \"leo\"\n",
    "chat_id = \"0e64d044-1c1f-4c49-832a-2b426efe4fa8\"\n",
    "\n",
    "data = {\n",
    "    \"model\": \"AgentPublic/llama3-instruct-8b\",\n",
    "    \"messages\": [{\"role\": \"user\", \"content\": \"Peut-on avoir des jours de congés pour un mariage ?\"}],\n",
    "    \"stream\": False,\n",
    "    \"n\": 1,\n",
    "    \"user\": user,\n",
    "    \"tools\": [\n",
    "        {\n",
    "            \"function\": {\n",
    "                \"name\": \"MultiAgents\",\n",
    "                \"parameters\": {\n",
    "                    \"embeddings_model\": model,\n",
    "                    \"chat_id\": chat_id,\n",
    "                },\n",
    "            },\n",
    "            \"type\": \"function\",\n",
    "        }\n",
    "    ],\n",
    "}\n",
    "\n",
    "response = client.chat.completions.create(**data)\n",
    "print(response.choices[0].message.content)"
   ]
  },
  {
   "cell_type": "code",
   "execution_count": 98,
   "id": "84d42d62",
   "metadata": {},
   "outputs": [
    {
     "name": "stdout",
     "output_type": "stream",
     "text": [
      "Oui, selon le Code du travail, le salarié peut bénéficier de 4 jours de congés pour son propre mariage ou pour la conclusion d'un PACS. 🎉\n"
     ]
    }
   ],
   "source": [
    "# Chat completions using Web \n",
    "# Instead of using the Qdrant knowledge base, we can use the Web tool to get completions by adding web: in the message content\n",
    "\n",
    "user = \"leo\"\n",
    "chat_id = \"0e64d044-1c1f-4c49-832a-2b426efe4fa8\"\n",
    "\n",
    "data = {\n",
    "    \"model\": \"AgentPublic/llama3-instruct-8b\",\n",
    "    \"messages\": [{\"role\": \"user\", \"content\": \"web: Peut-on avoir des jours de congés pour un mariage ?\"}],\n",
    "    \"stream\": False,\n",
    "    \"n\": 1,\n",
    "    \"user\": user,\n",
    "    \"tools\": [\n",
    "        {\n",
    "            \"function\": {\n",
    "                \"name\": \"MultiAgents\",\n",
    "                \"parameters\": {\n",
    "                    \"embeddings_model\": model,\n",
    "                    \"chat_id\": chat_id,\n",
    "                },\n",
    "            },\n",
    "            \"type\": \"function\",\n",
    "        }\n",
    "    ],\n",
    "}\n",
    "\n",
    "response = client.chat.completions.create(**data)\n",
    "print(response.choices[0].message.content)"
   ]
  },
  {
   "cell_type": "code",
   "execution_count": 99,
   "id": "6dd19051-bb51-4b0c-b300-f86b39f17ee0",
   "metadata": {},
   "outputs": [
    {
     "name": "stdout",
     "output_type": "stream",
     "text": [
      "[{'content': 'web: Peut-on avoir des jours de congés pour un mariage ?', 'role': 'user'}, {'role': 'assistant', 'content': \"Oui, selon le Code du travail, le salarié peut bénéficier de 4 jours de congés pour son propre mariage ou pour la conclusion d'un PACS. 🎉\"}]\n"
     ]
    }
   ],
   "source": [
    "# View chat history\n",
    "chat_id = response.id\n",
    "\n",
    "response = session.get(url=f\"{base_url}/chat/history/{user}/{chat_id}\")\n",
    "print(response.json()[\"messages\"])"
   ]
  }
 ],
 "metadata": {
  "kernelspec": {
   "display_name": "Python 3 (ipykernel)",
   "language": "python",
   "name": "python3"
  },
  "language_info": {
   "codemirror_mode": {
    "name": "ipython",
    "version": 3
   },
   "file_extension": ".py",
   "mimetype": "text/x-python",
   "name": "python",
   "nbconvert_exporter": "python",
   "pygments_lexer": "ipython3",
   "version": "3.10.14"
  }
 },
 "nbformat": 4,
 "nbformat_minor": 5
}
